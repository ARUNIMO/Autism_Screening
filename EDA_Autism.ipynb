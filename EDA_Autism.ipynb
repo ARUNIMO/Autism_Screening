{
  "nbformat": 4,
  "nbformat_minor": 0,
  "metadata": {
    "colab": {
      "provenance": [],
      "authorship_tag": "ABX9TyOTlPUc9iPKnbpgNP/YNiw1",
      "include_colab_link": true
    },
    "kernelspec": {
      "name": "python3",
      "display_name": "Python 3"
    },
    "language_info": {
      "name": "python"
    }
  },
  "cells": [
    {
      "cell_type": "markdown",
      "metadata": {
        "id": "view-in-github",
        "colab_type": "text"
      },
      "source": [
        "<a href=\"https://colab.research.google.com/github/ARUNIMO/Autism_Screening/blob/main/EDA_Autism.ipynb\" target=\"_parent\"><img src=\"https://colab.research.google.com/assets/colab-badge.svg\" alt=\"Open In Colab\"/></a>"
      ]
    },
    {
      "cell_type": "code",
      "execution_count": 19,
      "metadata": {
        "id": "AqAANWCIDTyu"
      },
      "outputs": [],
      "source": [
        "import pandas as pd\n",
        "import numpy as np\n",
        "import matplotlib.pyplot as plt\n",
        "import seaborn as sns\n",
        "\n",
        "import warnings\n",
        "warnings.filterwarnings('ignore')"
      ]
    },
    {
      "cell_type": "code",
      "source": [
        "from google.colab import files\n",
        "\n",
        "upload_file = files.upload()"
      ],
      "metadata": {
        "colab": {
          "base_uri": "https://localhost:8080/",
          "height": 74
        },
        "id": "F9iqE2osF4FL",
        "outputId": "6ec931ac-fbb9-4666-a051-976310f6b866"
      },
      "execution_count": 20,
      "outputs": [
        {
          "output_type": "display_data",
          "data": {
            "text/plain": [
              "<IPython.core.display.HTML object>"
            ],
            "text/html": [
              "\n",
              "     <input type=\"file\" id=\"files-0de5cc5e-4c92-40aa-af90-4ed1ac75b3b7\" name=\"files[]\" multiple disabled\n",
              "        style=\"border:none\" />\n",
              "     <output id=\"result-0de5cc5e-4c92-40aa-af90-4ed1ac75b3b7\">\n",
              "      Upload widget is only available when the cell has been executed in the\n",
              "      current browser session. Please rerun this cell to enable.\n",
              "      </output>\n",
              "      <script>// Copyright 2017 Google LLC\n",
              "//\n",
              "// Licensed under the Apache License, Version 2.0 (the \"License\");\n",
              "// you may not use this file except in compliance with the License.\n",
              "// You may obtain a copy of the License at\n",
              "//\n",
              "//      http://www.apache.org/licenses/LICENSE-2.0\n",
              "//\n",
              "// Unless required by applicable law or agreed to in writing, software\n",
              "// distributed under the License is distributed on an \"AS IS\" BASIS,\n",
              "// WITHOUT WARRANTIES OR CONDITIONS OF ANY KIND, either express or implied.\n",
              "// See the License for the specific language governing permissions and\n",
              "// limitations under the License.\n",
              "\n",
              "/**\n",
              " * @fileoverview Helpers for google.colab Python module.\n",
              " */\n",
              "(function(scope) {\n",
              "function span(text, styleAttributes = {}) {\n",
              "  const element = document.createElement('span');\n",
              "  element.textContent = text;\n",
              "  for (const key of Object.keys(styleAttributes)) {\n",
              "    element.style[key] = styleAttributes[key];\n",
              "  }\n",
              "  return element;\n",
              "}\n",
              "\n",
              "// Max number of bytes which will be uploaded at a time.\n",
              "const MAX_PAYLOAD_SIZE = 100 * 1024;\n",
              "\n",
              "function _uploadFiles(inputId, outputId) {\n",
              "  const steps = uploadFilesStep(inputId, outputId);\n",
              "  const outputElement = document.getElementById(outputId);\n",
              "  // Cache steps on the outputElement to make it available for the next call\n",
              "  // to uploadFilesContinue from Python.\n",
              "  outputElement.steps = steps;\n",
              "\n",
              "  return _uploadFilesContinue(outputId);\n",
              "}\n",
              "\n",
              "// This is roughly an async generator (not supported in the browser yet),\n",
              "// where there are multiple asynchronous steps and the Python side is going\n",
              "// to poll for completion of each step.\n",
              "// This uses a Promise to block the python side on completion of each step,\n",
              "// then passes the result of the previous step as the input to the next step.\n",
              "function _uploadFilesContinue(outputId) {\n",
              "  const outputElement = document.getElementById(outputId);\n",
              "  const steps = outputElement.steps;\n",
              "\n",
              "  const next = steps.next(outputElement.lastPromiseValue);\n",
              "  return Promise.resolve(next.value.promise).then((value) => {\n",
              "    // Cache the last promise value to make it available to the next\n",
              "    // step of the generator.\n",
              "    outputElement.lastPromiseValue = value;\n",
              "    return next.value.response;\n",
              "  });\n",
              "}\n",
              "\n",
              "/**\n",
              " * Generator function which is called between each async step of the upload\n",
              " * process.\n",
              " * @param {string} inputId Element ID of the input file picker element.\n",
              " * @param {string} outputId Element ID of the output display.\n",
              " * @return {!Iterable<!Object>} Iterable of next steps.\n",
              " */\n",
              "function* uploadFilesStep(inputId, outputId) {\n",
              "  const inputElement = document.getElementById(inputId);\n",
              "  inputElement.disabled = false;\n",
              "\n",
              "  const outputElement = document.getElementById(outputId);\n",
              "  outputElement.innerHTML = '';\n",
              "\n",
              "  const pickedPromise = new Promise((resolve) => {\n",
              "    inputElement.addEventListener('change', (e) => {\n",
              "      resolve(e.target.files);\n",
              "    });\n",
              "  });\n",
              "\n",
              "  const cancel = document.createElement('button');\n",
              "  inputElement.parentElement.appendChild(cancel);\n",
              "  cancel.textContent = 'Cancel upload';\n",
              "  const cancelPromise = new Promise((resolve) => {\n",
              "    cancel.onclick = () => {\n",
              "      resolve(null);\n",
              "    };\n",
              "  });\n",
              "\n",
              "  // Wait for the user to pick the files.\n",
              "  const files = yield {\n",
              "    promise: Promise.race([pickedPromise, cancelPromise]),\n",
              "    response: {\n",
              "      action: 'starting',\n",
              "    }\n",
              "  };\n",
              "\n",
              "  cancel.remove();\n",
              "\n",
              "  // Disable the input element since further picks are not allowed.\n",
              "  inputElement.disabled = true;\n",
              "\n",
              "  if (!files) {\n",
              "    return {\n",
              "      response: {\n",
              "        action: 'complete',\n",
              "      }\n",
              "    };\n",
              "  }\n",
              "\n",
              "  for (const file of files) {\n",
              "    const li = document.createElement('li');\n",
              "    li.append(span(file.name, {fontWeight: 'bold'}));\n",
              "    li.append(span(\n",
              "        `(${file.type || 'n/a'}) - ${file.size} bytes, ` +\n",
              "        `last modified: ${\n",
              "            file.lastModifiedDate ? file.lastModifiedDate.toLocaleDateString() :\n",
              "                                    'n/a'} - `));\n",
              "    const percent = span('0% done');\n",
              "    li.appendChild(percent);\n",
              "\n",
              "    outputElement.appendChild(li);\n",
              "\n",
              "    const fileDataPromise = new Promise((resolve) => {\n",
              "      const reader = new FileReader();\n",
              "      reader.onload = (e) => {\n",
              "        resolve(e.target.result);\n",
              "      };\n",
              "      reader.readAsArrayBuffer(file);\n",
              "    });\n",
              "    // Wait for the data to be ready.\n",
              "    let fileData = yield {\n",
              "      promise: fileDataPromise,\n",
              "      response: {\n",
              "        action: 'continue',\n",
              "      }\n",
              "    };\n",
              "\n",
              "    // Use a chunked sending to avoid message size limits. See b/62115660.\n",
              "    let position = 0;\n",
              "    do {\n",
              "      const length = Math.min(fileData.byteLength - position, MAX_PAYLOAD_SIZE);\n",
              "      const chunk = new Uint8Array(fileData, position, length);\n",
              "      position += length;\n",
              "\n",
              "      const base64 = btoa(String.fromCharCode.apply(null, chunk));\n",
              "      yield {\n",
              "        response: {\n",
              "          action: 'append',\n",
              "          file: file.name,\n",
              "          data: base64,\n",
              "        },\n",
              "      };\n",
              "\n",
              "      let percentDone = fileData.byteLength === 0 ?\n",
              "          100 :\n",
              "          Math.round((position / fileData.byteLength) * 100);\n",
              "      percent.textContent = `${percentDone}% done`;\n",
              "\n",
              "    } while (position < fileData.byteLength);\n",
              "  }\n",
              "\n",
              "  // All done.\n",
              "  yield {\n",
              "    response: {\n",
              "      action: 'complete',\n",
              "    }\n",
              "  };\n",
              "}\n",
              "\n",
              "scope.google = scope.google || {};\n",
              "scope.google.colab = scope.google.colab || {};\n",
              "scope.google.colab._files = {\n",
              "  _uploadFiles,\n",
              "  _uploadFilesContinue,\n",
              "};\n",
              "})(self);\n",
              "</script> "
            ]
          },
          "metadata": {}
        },
        {
          "output_type": "stream",
          "name": "stdout",
          "text": [
            "Saving Autism_Data.arff to Autism_Data (1).arff\n"
          ]
        }
      ]
    },
    {
      "cell_type": "code",
      "source": [
        "Autism = pd.read_csv('Autism_Data.arff')\n",
        "Autism.head()"
      ],
      "metadata": {
        "colab": {
          "base_uri": "https://localhost:8080/",
          "height": 386
        },
        "id": "TIBH3EDmDzuG",
        "outputId": "60839d84-758d-45d8-efb7-6a1ccd3679c4"
      },
      "execution_count": 21,
      "outputs": [
        {
          "output_type": "execute_result",
          "data": {
            "text/plain": [
              "   A1_Score  A2_Score  A3_Score  A4_Score  A5_Score  A6_Score  A7_Score  \\\n",
              "0         1         1         1         1         0         0         1   \n",
              "1         1         1         0         1         0         0         0   \n",
              "2         1         1         0         1         1         0         1   \n",
              "3         1         1         0         1         0         0         1   \n",
              "4         1         0         0         0         0         0         0   \n",
              "\n",
              "   A8_Score  A9_Score  A10_Score  ... gender       ethnicity jundice austim  \\\n",
              "0         1         0          0  ...      f  White-European      no     no   \n",
              "1         1         0          1  ...      m          Latino      no    yes   \n",
              "2         1         1          1  ...      m          Latino     yes    yes   \n",
              "3         1         0          1  ...      f  White-European      no    yes   \n",
              "4         1         0          0  ...      f               ?      no     no   \n",
              "\n",
              "     contry_of_res used_app_before result       age_desc relation Class/ASD  \n",
              "0  'United States'              no      6  '18 and more'     Self        NO  \n",
              "1           Brazil              no      5  '18 and more'     Self        NO  \n",
              "2            Spain              no      8  '18 and more'   Parent       YES  \n",
              "3  'United States'              no      6  '18 and more'     Self        NO  \n",
              "4            Egypt              no      2  '18 and more'        ?        NO  \n",
              "\n",
              "[5 rows x 21 columns]"
            ],
            "text/html": [
              "\n",
              "  <div id=\"df-265ccb0e-51fa-486c-ac8c-c56b53dd3a2e\">\n",
              "    <div class=\"colab-df-container\">\n",
              "      <div>\n",
              "<style scoped>\n",
              "    .dataframe tbody tr th:only-of-type {\n",
              "        vertical-align: middle;\n",
              "    }\n",
              "\n",
              "    .dataframe tbody tr th {\n",
              "        vertical-align: top;\n",
              "    }\n",
              "\n",
              "    .dataframe thead th {\n",
              "        text-align: right;\n",
              "    }\n",
              "</style>\n",
              "<table border=\"1\" class=\"dataframe\">\n",
              "  <thead>\n",
              "    <tr style=\"text-align: right;\">\n",
              "      <th></th>\n",
              "      <th>A1_Score</th>\n",
              "      <th>A2_Score</th>\n",
              "      <th>A3_Score</th>\n",
              "      <th>A4_Score</th>\n",
              "      <th>A5_Score</th>\n",
              "      <th>A6_Score</th>\n",
              "      <th>A7_Score</th>\n",
              "      <th>A8_Score</th>\n",
              "      <th>A9_Score</th>\n",
              "      <th>A10_Score</th>\n",
              "      <th>...</th>\n",
              "      <th>gender</th>\n",
              "      <th>ethnicity</th>\n",
              "      <th>jundice</th>\n",
              "      <th>austim</th>\n",
              "      <th>contry_of_res</th>\n",
              "      <th>used_app_before</th>\n",
              "      <th>result</th>\n",
              "      <th>age_desc</th>\n",
              "      <th>relation</th>\n",
              "      <th>Class/ASD</th>\n",
              "    </tr>\n",
              "  </thead>\n",
              "  <tbody>\n",
              "    <tr>\n",
              "      <th>0</th>\n",
              "      <td>1</td>\n",
              "      <td>1</td>\n",
              "      <td>1</td>\n",
              "      <td>1</td>\n",
              "      <td>0</td>\n",
              "      <td>0</td>\n",
              "      <td>1</td>\n",
              "      <td>1</td>\n",
              "      <td>0</td>\n",
              "      <td>0</td>\n",
              "      <td>...</td>\n",
              "      <td>f</td>\n",
              "      <td>White-European</td>\n",
              "      <td>no</td>\n",
              "      <td>no</td>\n",
              "      <td>'United States'</td>\n",
              "      <td>no</td>\n",
              "      <td>6</td>\n",
              "      <td>'18 and more'</td>\n",
              "      <td>Self</td>\n",
              "      <td>NO</td>\n",
              "    </tr>\n",
              "    <tr>\n",
              "      <th>1</th>\n",
              "      <td>1</td>\n",
              "      <td>1</td>\n",
              "      <td>0</td>\n",
              "      <td>1</td>\n",
              "      <td>0</td>\n",
              "      <td>0</td>\n",
              "      <td>0</td>\n",
              "      <td>1</td>\n",
              "      <td>0</td>\n",
              "      <td>1</td>\n",
              "      <td>...</td>\n",
              "      <td>m</td>\n",
              "      <td>Latino</td>\n",
              "      <td>no</td>\n",
              "      <td>yes</td>\n",
              "      <td>Brazil</td>\n",
              "      <td>no</td>\n",
              "      <td>5</td>\n",
              "      <td>'18 and more'</td>\n",
              "      <td>Self</td>\n",
              "      <td>NO</td>\n",
              "    </tr>\n",
              "    <tr>\n",
              "      <th>2</th>\n",
              "      <td>1</td>\n",
              "      <td>1</td>\n",
              "      <td>0</td>\n",
              "      <td>1</td>\n",
              "      <td>1</td>\n",
              "      <td>0</td>\n",
              "      <td>1</td>\n",
              "      <td>1</td>\n",
              "      <td>1</td>\n",
              "      <td>1</td>\n",
              "      <td>...</td>\n",
              "      <td>m</td>\n",
              "      <td>Latino</td>\n",
              "      <td>yes</td>\n",
              "      <td>yes</td>\n",
              "      <td>Spain</td>\n",
              "      <td>no</td>\n",
              "      <td>8</td>\n",
              "      <td>'18 and more'</td>\n",
              "      <td>Parent</td>\n",
              "      <td>YES</td>\n",
              "    </tr>\n",
              "    <tr>\n",
              "      <th>3</th>\n",
              "      <td>1</td>\n",
              "      <td>1</td>\n",
              "      <td>0</td>\n",
              "      <td>1</td>\n",
              "      <td>0</td>\n",
              "      <td>0</td>\n",
              "      <td>1</td>\n",
              "      <td>1</td>\n",
              "      <td>0</td>\n",
              "      <td>1</td>\n",
              "      <td>...</td>\n",
              "      <td>f</td>\n",
              "      <td>White-European</td>\n",
              "      <td>no</td>\n",
              "      <td>yes</td>\n",
              "      <td>'United States'</td>\n",
              "      <td>no</td>\n",
              "      <td>6</td>\n",
              "      <td>'18 and more'</td>\n",
              "      <td>Self</td>\n",
              "      <td>NO</td>\n",
              "    </tr>\n",
              "    <tr>\n",
              "      <th>4</th>\n",
              "      <td>1</td>\n",
              "      <td>0</td>\n",
              "      <td>0</td>\n",
              "      <td>0</td>\n",
              "      <td>0</td>\n",
              "      <td>0</td>\n",
              "      <td>0</td>\n",
              "      <td>1</td>\n",
              "      <td>0</td>\n",
              "      <td>0</td>\n",
              "      <td>...</td>\n",
              "      <td>f</td>\n",
              "      <td>?</td>\n",
              "      <td>no</td>\n",
              "      <td>no</td>\n",
              "      <td>Egypt</td>\n",
              "      <td>no</td>\n",
              "      <td>2</td>\n",
              "      <td>'18 and more'</td>\n",
              "      <td>?</td>\n",
              "      <td>NO</td>\n",
              "    </tr>\n",
              "  </tbody>\n",
              "</table>\n",
              "<p>5 rows × 21 columns</p>\n",
              "</div>\n",
              "      <button class=\"colab-df-convert\" onclick=\"convertToInteractive('df-265ccb0e-51fa-486c-ac8c-c56b53dd3a2e')\"\n",
              "              title=\"Convert this dataframe to an interactive table.\"\n",
              "              style=\"display:none;\">\n",
              "        \n",
              "  <svg xmlns=\"http://www.w3.org/2000/svg\" height=\"24px\"viewBox=\"0 0 24 24\"\n",
              "       width=\"24px\">\n",
              "    <path d=\"M0 0h24v24H0V0z\" fill=\"none\"/>\n",
              "    <path d=\"M18.56 5.44l.94 2.06.94-2.06 2.06-.94-2.06-.94-.94-2.06-.94 2.06-2.06.94zm-11 1L8.5 8.5l.94-2.06 2.06-.94-2.06-.94L8.5 2.5l-.94 2.06-2.06.94zm10 10l.94 2.06.94-2.06 2.06-.94-2.06-.94-.94-2.06-.94 2.06-2.06.94z\"/><path d=\"M17.41 7.96l-1.37-1.37c-.4-.4-.92-.59-1.43-.59-.52 0-1.04.2-1.43.59L10.3 9.45l-7.72 7.72c-.78.78-.78 2.05 0 2.83L4 21.41c.39.39.9.59 1.41.59.51 0 1.02-.2 1.41-.59l7.78-7.78 2.81-2.81c.8-.78.8-2.07 0-2.86zM5.41 20L4 18.59l7.72-7.72 1.47 1.35L5.41 20z\"/>\n",
              "  </svg>\n",
              "      </button>\n",
              "      \n",
              "  <style>\n",
              "    .colab-df-container {\n",
              "      display:flex;\n",
              "      flex-wrap:wrap;\n",
              "      gap: 12px;\n",
              "    }\n",
              "\n",
              "    .colab-df-convert {\n",
              "      background-color: #E8F0FE;\n",
              "      border: none;\n",
              "      border-radius: 50%;\n",
              "      cursor: pointer;\n",
              "      display: none;\n",
              "      fill: #1967D2;\n",
              "      height: 32px;\n",
              "      padding: 0 0 0 0;\n",
              "      width: 32px;\n",
              "    }\n",
              "\n",
              "    .colab-df-convert:hover {\n",
              "      background-color: #E2EBFA;\n",
              "      box-shadow: 0px 1px 2px rgba(60, 64, 67, 0.3), 0px 1px 3px 1px rgba(60, 64, 67, 0.15);\n",
              "      fill: #174EA6;\n",
              "    }\n",
              "\n",
              "    [theme=dark] .colab-df-convert {\n",
              "      background-color: #3B4455;\n",
              "      fill: #D2E3FC;\n",
              "    }\n",
              "\n",
              "    [theme=dark] .colab-df-convert:hover {\n",
              "      background-color: #434B5C;\n",
              "      box-shadow: 0px 1px 3px 1px rgba(0, 0, 0, 0.15);\n",
              "      filter: drop-shadow(0px 1px 2px rgba(0, 0, 0, 0.3));\n",
              "      fill: #FFFFFF;\n",
              "    }\n",
              "  </style>\n",
              "\n",
              "      <script>\n",
              "        const buttonEl =\n",
              "          document.querySelector('#df-265ccb0e-51fa-486c-ac8c-c56b53dd3a2e button.colab-df-convert');\n",
              "        buttonEl.style.display =\n",
              "          google.colab.kernel.accessAllowed ? 'block' : 'none';\n",
              "\n",
              "        async function convertToInteractive(key) {\n",
              "          const element = document.querySelector('#df-265ccb0e-51fa-486c-ac8c-c56b53dd3a2e');\n",
              "          const dataTable =\n",
              "            await google.colab.kernel.invokeFunction('convertToInteractive',\n",
              "                                                     [key], {});\n",
              "          if (!dataTable) return;\n",
              "\n",
              "          const docLinkHtml = 'Like what you see? Visit the ' +\n",
              "            '<a target=\"_blank\" href=https://colab.research.google.com/notebooks/data_table.ipynb>data table notebook</a>'\n",
              "            + ' to learn more about interactive tables.';\n",
              "          element.innerHTML = '';\n",
              "          dataTable['output_type'] = 'display_data';\n",
              "          await google.colab.output.renderOutput(dataTable, element);\n",
              "          const docLink = document.createElement('div');\n",
              "          docLink.innerHTML = docLinkHtml;\n",
              "          element.appendChild(docLink);\n",
              "        }\n",
              "      </script>\n",
              "    </div>\n",
              "  </div>\n",
              "  "
            ]
          },
          "metadata": {},
          "execution_count": 21
        }
      ]
    },
    {
      "cell_type": "code",
      "source": [
        "#Data inspection and cleaning"
      ],
      "metadata": {
        "id": "slW-AKKMGeoj"
      },
      "execution_count": null,
      "outputs": []
    },
    {
      "cell_type": "code",
      "source": [
        "Autism.info()"
      ],
      "metadata": {
        "colab": {
          "base_uri": "https://localhost:8080/"
        },
        "id": "0uHpfnH5GklK",
        "outputId": "888d7213-9fdf-4abb-f2b3-8980de3752f5"
      },
      "execution_count": 22,
      "outputs": [
        {
          "output_type": "stream",
          "name": "stdout",
          "text": [
            "<class 'pandas.core.frame.DataFrame'>\n",
            "RangeIndex: 704 entries, 0 to 703\n",
            "Data columns (total 21 columns):\n",
            " #   Column           Non-Null Count  Dtype \n",
            "---  ------           --------------  ----- \n",
            " 0   A1_Score         704 non-null    int64 \n",
            " 1   A2_Score         704 non-null    int64 \n",
            " 2   A3_Score         704 non-null    int64 \n",
            " 3   A4_Score         704 non-null    int64 \n",
            " 4   A5_Score         704 non-null    int64 \n",
            " 5   A6_Score         704 non-null    int64 \n",
            " 6   A7_Score         704 non-null    int64 \n",
            " 7   A8_Score         704 non-null    int64 \n",
            " 8   A9_Score         704 non-null    int64 \n",
            " 9   A10_Score        704 non-null    int64 \n",
            " 10  age              704 non-null    object\n",
            " 11  gender           704 non-null    object\n",
            " 12  ethnicity        704 non-null    object\n",
            " 13  jundice          704 non-null    object\n",
            " 14  austim           704 non-null    object\n",
            " 15  contry_of_res    704 non-null    object\n",
            " 16  used_app_before  704 non-null    object\n",
            " 17  result           704 non-null    int64 \n",
            " 18  age_desc         704 non-null    object\n",
            " 19  relation         704 non-null    object\n",
            " 20  Class/ASD        704 non-null    object\n",
            "dtypes: int64(11), object(10)\n",
            "memory usage: 115.6+ KB\n"
          ]
        }
      ]
    },
    {
      "cell_type": "code",
      "source": [
        "Autism['Class/ASD'].value_counts()"
      ],
      "metadata": {
        "colab": {
          "base_uri": "https://localhost:8080/"
        },
        "id": "wMpYCASXGrbn",
        "outputId": "2fafad38-4707-4824-b224-427d3e728845"
      },
      "execution_count": 23,
      "outputs": [
        {
          "output_type": "execute_result",
          "data": {
            "text/plain": [
              "NO     515\n",
              "YES    189\n",
              "Name: Class/ASD, dtype: int64"
            ]
          },
          "metadata": {},
          "execution_count": 23
        }
      ]
    },
    {
      "cell_type": "code",
      "source": [
        "Autism.drop('age_desc',axis=1,inplace=True)\n",
        "Autism.head()"
      ],
      "metadata": {
        "colab": {
          "base_uri": "https://localhost:8080/",
          "height": 305
        },
        "id": "uVdmlEFnG2qe",
        "outputId": "1d5818f4-bcb6-45c2-d992-e019d06a1138"
      },
      "execution_count": 24,
      "outputs": [
        {
          "output_type": "execute_result",
          "data": {
            "text/plain": [
              "   A1_Score  A2_Score  A3_Score  A4_Score  A5_Score  A6_Score  A7_Score  \\\n",
              "0         1         1         1         1         0         0         1   \n",
              "1         1         1         0         1         0         0         0   \n",
              "2         1         1         0         1         1         0         1   \n",
              "3         1         1         0         1         0         0         1   \n",
              "4         1         0         0         0         0         0         0   \n",
              "\n",
              "   A8_Score  A9_Score  A10_Score age gender       ethnicity jundice austim  \\\n",
              "0         1         0          0  26      f  White-European      no     no   \n",
              "1         1         0          1  24      m          Latino      no    yes   \n",
              "2         1         1          1  27      m          Latino     yes    yes   \n",
              "3         1         0          1  35      f  White-European      no    yes   \n",
              "4         1         0          0  40      f               ?      no     no   \n",
              "\n",
              "     contry_of_res used_app_before  result relation Class/ASD  \n",
              "0  'United States'              no       6     Self        NO  \n",
              "1           Brazil              no       5     Self        NO  \n",
              "2            Spain              no       8   Parent       YES  \n",
              "3  'United States'              no       6     Self        NO  \n",
              "4            Egypt              no       2        ?        NO  "
            ],
            "text/html": [
              "\n",
              "  <div id=\"df-865810db-bc3d-4fb6-bab3-d47efaa9260e\">\n",
              "    <div class=\"colab-df-container\">\n",
              "      <div>\n",
              "<style scoped>\n",
              "    .dataframe tbody tr th:only-of-type {\n",
              "        vertical-align: middle;\n",
              "    }\n",
              "\n",
              "    .dataframe tbody tr th {\n",
              "        vertical-align: top;\n",
              "    }\n",
              "\n",
              "    .dataframe thead th {\n",
              "        text-align: right;\n",
              "    }\n",
              "</style>\n",
              "<table border=\"1\" class=\"dataframe\">\n",
              "  <thead>\n",
              "    <tr style=\"text-align: right;\">\n",
              "      <th></th>\n",
              "      <th>A1_Score</th>\n",
              "      <th>A2_Score</th>\n",
              "      <th>A3_Score</th>\n",
              "      <th>A4_Score</th>\n",
              "      <th>A5_Score</th>\n",
              "      <th>A6_Score</th>\n",
              "      <th>A7_Score</th>\n",
              "      <th>A8_Score</th>\n",
              "      <th>A9_Score</th>\n",
              "      <th>A10_Score</th>\n",
              "      <th>age</th>\n",
              "      <th>gender</th>\n",
              "      <th>ethnicity</th>\n",
              "      <th>jundice</th>\n",
              "      <th>austim</th>\n",
              "      <th>contry_of_res</th>\n",
              "      <th>used_app_before</th>\n",
              "      <th>result</th>\n",
              "      <th>relation</th>\n",
              "      <th>Class/ASD</th>\n",
              "    </tr>\n",
              "  </thead>\n",
              "  <tbody>\n",
              "    <tr>\n",
              "      <th>0</th>\n",
              "      <td>1</td>\n",
              "      <td>1</td>\n",
              "      <td>1</td>\n",
              "      <td>1</td>\n",
              "      <td>0</td>\n",
              "      <td>0</td>\n",
              "      <td>1</td>\n",
              "      <td>1</td>\n",
              "      <td>0</td>\n",
              "      <td>0</td>\n",
              "      <td>26</td>\n",
              "      <td>f</td>\n",
              "      <td>White-European</td>\n",
              "      <td>no</td>\n",
              "      <td>no</td>\n",
              "      <td>'United States'</td>\n",
              "      <td>no</td>\n",
              "      <td>6</td>\n",
              "      <td>Self</td>\n",
              "      <td>NO</td>\n",
              "    </tr>\n",
              "    <tr>\n",
              "      <th>1</th>\n",
              "      <td>1</td>\n",
              "      <td>1</td>\n",
              "      <td>0</td>\n",
              "      <td>1</td>\n",
              "      <td>0</td>\n",
              "      <td>0</td>\n",
              "      <td>0</td>\n",
              "      <td>1</td>\n",
              "      <td>0</td>\n",
              "      <td>1</td>\n",
              "      <td>24</td>\n",
              "      <td>m</td>\n",
              "      <td>Latino</td>\n",
              "      <td>no</td>\n",
              "      <td>yes</td>\n",
              "      <td>Brazil</td>\n",
              "      <td>no</td>\n",
              "      <td>5</td>\n",
              "      <td>Self</td>\n",
              "      <td>NO</td>\n",
              "    </tr>\n",
              "    <tr>\n",
              "      <th>2</th>\n",
              "      <td>1</td>\n",
              "      <td>1</td>\n",
              "      <td>0</td>\n",
              "      <td>1</td>\n",
              "      <td>1</td>\n",
              "      <td>0</td>\n",
              "      <td>1</td>\n",
              "      <td>1</td>\n",
              "      <td>1</td>\n",
              "      <td>1</td>\n",
              "      <td>27</td>\n",
              "      <td>m</td>\n",
              "      <td>Latino</td>\n",
              "      <td>yes</td>\n",
              "      <td>yes</td>\n",
              "      <td>Spain</td>\n",
              "      <td>no</td>\n",
              "      <td>8</td>\n",
              "      <td>Parent</td>\n",
              "      <td>YES</td>\n",
              "    </tr>\n",
              "    <tr>\n",
              "      <th>3</th>\n",
              "      <td>1</td>\n",
              "      <td>1</td>\n",
              "      <td>0</td>\n",
              "      <td>1</td>\n",
              "      <td>0</td>\n",
              "      <td>0</td>\n",
              "      <td>1</td>\n",
              "      <td>1</td>\n",
              "      <td>0</td>\n",
              "      <td>1</td>\n",
              "      <td>35</td>\n",
              "      <td>f</td>\n",
              "      <td>White-European</td>\n",
              "      <td>no</td>\n",
              "      <td>yes</td>\n",
              "      <td>'United States'</td>\n",
              "      <td>no</td>\n",
              "      <td>6</td>\n",
              "      <td>Self</td>\n",
              "      <td>NO</td>\n",
              "    </tr>\n",
              "    <tr>\n",
              "      <th>4</th>\n",
              "      <td>1</td>\n",
              "      <td>0</td>\n",
              "      <td>0</td>\n",
              "      <td>0</td>\n",
              "      <td>0</td>\n",
              "      <td>0</td>\n",
              "      <td>0</td>\n",
              "      <td>1</td>\n",
              "      <td>0</td>\n",
              "      <td>0</td>\n",
              "      <td>40</td>\n",
              "      <td>f</td>\n",
              "      <td>?</td>\n",
              "      <td>no</td>\n",
              "      <td>no</td>\n",
              "      <td>Egypt</td>\n",
              "      <td>no</td>\n",
              "      <td>2</td>\n",
              "      <td>?</td>\n",
              "      <td>NO</td>\n",
              "    </tr>\n",
              "  </tbody>\n",
              "</table>\n",
              "</div>\n",
              "      <button class=\"colab-df-convert\" onclick=\"convertToInteractive('df-865810db-bc3d-4fb6-bab3-d47efaa9260e')\"\n",
              "              title=\"Convert this dataframe to an interactive table.\"\n",
              "              style=\"display:none;\">\n",
              "        \n",
              "  <svg xmlns=\"http://www.w3.org/2000/svg\" height=\"24px\"viewBox=\"0 0 24 24\"\n",
              "       width=\"24px\">\n",
              "    <path d=\"M0 0h24v24H0V0z\" fill=\"none\"/>\n",
              "    <path d=\"M18.56 5.44l.94 2.06.94-2.06 2.06-.94-2.06-.94-.94-2.06-.94 2.06-2.06.94zm-11 1L8.5 8.5l.94-2.06 2.06-.94-2.06-.94L8.5 2.5l-.94 2.06-2.06.94zm10 10l.94 2.06.94-2.06 2.06-.94-2.06-.94-.94-2.06-.94 2.06-2.06.94z\"/><path d=\"M17.41 7.96l-1.37-1.37c-.4-.4-.92-.59-1.43-.59-.52 0-1.04.2-1.43.59L10.3 9.45l-7.72 7.72c-.78.78-.78 2.05 0 2.83L4 21.41c.39.39.9.59 1.41.59.51 0 1.02-.2 1.41-.59l7.78-7.78 2.81-2.81c.8-.78.8-2.07 0-2.86zM5.41 20L4 18.59l7.72-7.72 1.47 1.35L5.41 20z\"/>\n",
              "  </svg>\n",
              "      </button>\n",
              "      \n",
              "  <style>\n",
              "    .colab-df-container {\n",
              "      display:flex;\n",
              "      flex-wrap:wrap;\n",
              "      gap: 12px;\n",
              "    }\n",
              "\n",
              "    .colab-df-convert {\n",
              "      background-color: #E8F0FE;\n",
              "      border: none;\n",
              "      border-radius: 50%;\n",
              "      cursor: pointer;\n",
              "      display: none;\n",
              "      fill: #1967D2;\n",
              "      height: 32px;\n",
              "      padding: 0 0 0 0;\n",
              "      width: 32px;\n",
              "    }\n",
              "\n",
              "    .colab-df-convert:hover {\n",
              "      background-color: #E2EBFA;\n",
              "      box-shadow: 0px 1px 2px rgba(60, 64, 67, 0.3), 0px 1px 3px 1px rgba(60, 64, 67, 0.15);\n",
              "      fill: #174EA6;\n",
              "    }\n",
              "\n",
              "    [theme=dark] .colab-df-convert {\n",
              "      background-color: #3B4455;\n",
              "      fill: #D2E3FC;\n",
              "    }\n",
              "\n",
              "    [theme=dark] .colab-df-convert:hover {\n",
              "      background-color: #434B5C;\n",
              "      box-shadow: 0px 1px 3px 1px rgba(0, 0, 0, 0.15);\n",
              "      filter: drop-shadow(0px 1px 2px rgba(0, 0, 0, 0.3));\n",
              "      fill: #FFFFFF;\n",
              "    }\n",
              "  </style>\n",
              "\n",
              "      <script>\n",
              "        const buttonEl =\n",
              "          document.querySelector('#df-865810db-bc3d-4fb6-bab3-d47efaa9260e button.colab-df-convert');\n",
              "        buttonEl.style.display =\n",
              "          google.colab.kernel.accessAllowed ? 'block' : 'none';\n",
              "\n",
              "        async function convertToInteractive(key) {\n",
              "          const element = document.querySelector('#df-865810db-bc3d-4fb6-bab3-d47efaa9260e');\n",
              "          const dataTable =\n",
              "            await google.colab.kernel.invokeFunction('convertToInteractive',\n",
              "                                                     [key], {});\n",
              "          if (!dataTable) return;\n",
              "\n",
              "          const docLinkHtml = 'Like what you see? Visit the ' +\n",
              "            '<a target=\"_blank\" href=https://colab.research.google.com/notebooks/data_table.ipynb>data table notebook</a>'\n",
              "            + ' to learn more about interactive tables.';\n",
              "          element.innerHTML = '';\n",
              "          dataTable['output_type'] = 'display_data';\n",
              "          await google.colab.output.renderOutput(dataTable, element);\n",
              "          const docLink = document.createElement('div');\n",
              "          docLink.innerHTML = docLinkHtml;\n",
              "          element.appendChild(docLink);\n",
              "        }\n",
              "      </script>\n",
              "    </div>\n",
              "  </div>\n",
              "  "
            ]
          },
          "metadata": {},
          "execution_count": 24
        }
      ]
    },
    {
      "cell_type": "code",
      "source": [
        "Autism = Autism.rename(columns={'austim':'family member with PDD','jundice':'jaundice','contry_of_res':'country_of_res'})"
      ],
      "metadata": {
        "id": "CHokWmvdG7fe"
      },
      "execution_count": 25,
      "outputs": []
    },
    {
      "cell_type": "code",
      "source": [
        "Autism['age'] = Autism['age'].apply(lambda x: np.nan if x == '?' else int(x))\n",
        "Autism['gender'] = Autism['gender'].map({'m':1,'f':0})\n",
        "Autism['jaundice'] = Autism['jaundice'].map({'yes':1,'no':0})\n",
        "Autism['family member with PDD'] = Autism['family member with PDD'].map({'yes':1,'no':0})\n",
        "Autism['used_app_before'] = Autism['used_app_before'].map({'yes':1,'no':0})\n",
        "Autism['Class/ASD'] = Autism['Class/ASD'].map({'YES':1,'NO':0})"
      ],
      "metadata": {
        "id": "EXd4NVGJG_NA"
      },
      "execution_count": 26,
      "outputs": []
    },
    {
      "cell_type": "code",
      "source": [
        "Autism.info()"
      ],
      "metadata": {
        "colab": {
          "base_uri": "https://localhost:8080/"
        },
        "id": "vF2om808HBpE",
        "outputId": "272e2561-192c-4c25-a234-f1fad6a4c924"
      },
      "execution_count": 27,
      "outputs": [
        {
          "output_type": "stream",
          "name": "stdout",
          "text": [
            "<class 'pandas.core.frame.DataFrame'>\n",
            "RangeIndex: 704 entries, 0 to 703\n",
            "Data columns (total 20 columns):\n",
            " #   Column                  Non-Null Count  Dtype  \n",
            "---  ------                  --------------  -----  \n",
            " 0   A1_Score                704 non-null    int64  \n",
            " 1   A2_Score                704 non-null    int64  \n",
            " 2   A3_Score                704 non-null    int64  \n",
            " 3   A4_Score                704 non-null    int64  \n",
            " 4   A5_Score                704 non-null    int64  \n",
            " 5   A6_Score                704 non-null    int64  \n",
            " 6   A7_Score                704 non-null    int64  \n",
            " 7   A8_Score                704 non-null    int64  \n",
            " 8   A9_Score                704 non-null    int64  \n",
            " 9   A10_Score               704 non-null    int64  \n",
            " 10  age                     702 non-null    float64\n",
            " 11  gender                  704 non-null    int64  \n",
            " 12  ethnicity               704 non-null    object \n",
            " 13  jaundice                704 non-null    int64  \n",
            " 14  family member with PDD  704 non-null    int64  \n",
            " 15  country_of_res          704 non-null    object \n",
            " 16  used_app_before         704 non-null    int64  \n",
            " 17  result                  704 non-null    int64  \n",
            " 18  relation                704 non-null    object \n",
            " 19  Class/ASD               704 non-null    int64  \n",
            "dtypes: float64(1), int64(16), object(3)\n",
            "memory usage: 110.1+ KB\n"
          ]
        }
      ]
    },
    {
      "cell_type": "code",
      "source": [
        "Autism['A9_Score'].value_counts()"
      ],
      "metadata": {
        "colab": {
          "base_uri": "https://localhost:8080/"
        },
        "id": "7qIq9RxpHR02",
        "outputId": "28928036-0fa1-4047-b9c3-4378d9f2d298"
      },
      "execution_count": 28,
      "outputs": [
        {
          "output_type": "execute_result",
          "data": {
            "text/plain": [
              "0    476\n",
              "1    228\n",
              "Name: A9_Score, dtype: int64"
            ]
          },
          "metadata": {},
          "execution_count": 28
        }
      ]
    },
    {
      "cell_type": "code",
      "source": [
        "Autism['ethnicity'] = Autism['ethnicity'].apply(lambda x: 'Others' if x == '?' else x)\n",
        "Autism['ethnicity'] = Autism['ethnicity'].apply(lambda x: 'Others' if x == 'others' else x)\n",
        "Autism['ethnicity'] = Autism['ethnicity'].apply(lambda x: 'Hispanic' if x == 'Latino' else x)"
      ],
      "metadata": {
        "id": "MM3dSFAxHTP-"
      },
      "execution_count": 29,
      "outputs": []
    },
    {
      "cell_type": "code",
      "source": [
        "Autism['relation'] = Autism['relation'].apply(lambda x: 'Caregiver' if x == '?' else x)"
      ],
      "metadata": {
        "id": "I_AxROh5HaCj"
      },
      "execution_count": 30,
      "outputs": []
    },
    {
      "cell_type": "code",
      "source": [
        "Autism.info()"
      ],
      "metadata": {
        "colab": {
          "base_uri": "https://localhost:8080/"
        },
        "id": "pmFR1WWjHczP",
        "outputId": "6838c14c-fe19-4d5e-d9f5-c75679446727"
      },
      "execution_count": 31,
      "outputs": [
        {
          "output_type": "stream",
          "name": "stdout",
          "text": [
            "<class 'pandas.core.frame.DataFrame'>\n",
            "RangeIndex: 704 entries, 0 to 703\n",
            "Data columns (total 20 columns):\n",
            " #   Column                  Non-Null Count  Dtype  \n",
            "---  ------                  --------------  -----  \n",
            " 0   A1_Score                704 non-null    int64  \n",
            " 1   A2_Score                704 non-null    int64  \n",
            " 2   A3_Score                704 non-null    int64  \n",
            " 3   A4_Score                704 non-null    int64  \n",
            " 4   A5_Score                704 non-null    int64  \n",
            " 5   A6_Score                704 non-null    int64  \n",
            " 6   A7_Score                704 non-null    int64  \n",
            " 7   A8_Score                704 non-null    int64  \n",
            " 8   A9_Score                704 non-null    int64  \n",
            " 9   A10_Score               704 non-null    int64  \n",
            " 10  age                     702 non-null    float64\n",
            " 11  gender                  704 non-null    int64  \n",
            " 12  ethnicity               704 non-null    object \n",
            " 13  jaundice                704 non-null    int64  \n",
            " 14  family member with PDD  704 non-null    int64  \n",
            " 15  country_of_res          704 non-null    object \n",
            " 16  used_app_before         704 non-null    int64  \n",
            " 17  result                  704 non-null    int64  \n",
            " 18  relation                704 non-null    object \n",
            " 19  Class/ASD               704 non-null    int64  \n",
            "dtypes: float64(1), int64(16), object(3)\n",
            "memory usage: 110.1+ KB\n"
          ]
        }
      ]
    },
    {
      "cell_type": "code",
      "source": [
        "Autism['ethnicity'].value_counts()"
      ],
      "metadata": {
        "colab": {
          "base_uri": "https://localhost:8080/"
        },
        "id": "qsDBLD8bHecd",
        "outputId": "417602f9-1d2a-4866-8a2e-feef11beb5b5"
      },
      "execution_count": 32,
      "outputs": [
        {
          "output_type": "execute_result",
          "data": {
            "text/plain": [
              "White-European       233\n",
              "Others               126\n",
              "Asian                123\n",
              "'Middle Eastern '     92\n",
              "Black                 43\n",
              "'South Asian'         36\n",
              "Hispanic              33\n",
              "Pasifika              12\n",
              "Turkish                6\n",
              "Name: ethnicity, dtype: int64"
            ]
          },
          "metadata": {},
          "execution_count": 32
        }
      ]
    },
    {
      "cell_type": "code",
      "source": [
        "#EDA"
      ],
      "metadata": {
        "id": "Be8l3PU-HlUN"
      },
      "execution_count": 33,
      "outputs": []
    },
    {
      "cell_type": "code",
      "source": [
        "plt.figure(figsize=(15,10))\n",
        "sns.heatmap(Autism.corr(),annot=True)\n",
        "plt.title('Heatmap of Variable Correlations')\n",
        "plt.show()"
      ],
      "metadata": {
        "colab": {
          "base_uri": "https://localhost:8080/",
          "height": 723
        },
        "id": "Ye-ZXWnBHngM",
        "outputId": "921f96d4-113c-477d-aa5c-1fb3af698eea"
      },
      "execution_count": 34,
      "outputs": [
        {
          "output_type": "display_data",
          "data": {
            "text/plain": [
              "<Figure size 1080x720 with 2 Axes>"
            ],
            "image/png": "[encoded data removed]"
          },
          "metadata": {
            "needs_background": "light"
          }
        }
      ]
    },
    {
      "cell_type": "code",
      "source": [
        "#ASD correlates with A9, A6, A5 and A4 scores. Also corelates highly with result which is expected."
      ],
      "metadata": {
        "id": "GMfHRjSSHvnu"
      },
      "execution_count": 36,
      "outputs": []
    },
    {
      "cell_type": "code",
      "source": [
        "plt.figure(figsize=(15,5))\n",
        "sns.barplot(x='gender',y='Class/ASD',data=Autism)\n",
        "plt.title('Autism Spectrum Disorder vs Gender')\n",
        "plt.xlabel('Gender')\n",
        "plt.ylabel('Autism Spectrum Disorder')\n",
        "plt.show()"
      ],
      "metadata": {
        "colab": {
          "base_uri": "https://localhost:8080/",
          "height": 350
        },
        "id": "8scdfJ7mHzYz",
        "outputId": "4ab17086-0aa4-4fb1-d1e2-d8dfd0f04775"
      },
      "execution_count": 35,
      "outputs": [
        {
          "output_type": "display_data",
          "data": {
            "text/plain": [
              "<Figure size 1080x360 with 1 Axes>"
            ],
            "image/png": "[encoded data removed]"
          },
          "metadata": {
            "needs_background": "light"
          }
        }
      ]
    },
    {
      "cell_type": "code",
      "source": [
        "plt.figure(figsize=(15,5))\n",
        "sns.barplot(x='ethnicity',y='Class/ASD',data=Autism)\n",
        "plt.title('Autism Spectrum Disorder vs Ethnicity')\n",
        "plt.xlabel('Ethnicity')\n",
        "plt.ylabel('Autism Spectrum Disorder')\n",
        "plt.show()"
      ],
      "metadata": {
        "colab": {
          "base_uri": "https://localhost:8080/",
          "height": 350
        },
        "id": "Lq1oYu2bH3gR",
        "outputId": "f019b219-52b9-4ab0-d6c8-e103e41a1992"
      },
      "execution_count": 37,
      "outputs": [
        {
          "output_type": "display_data",
          "data": {
            "text/plain": [
              "<Figure size 1080x360 with 1 Axes>"
            ],
            "image/png": "[encoded data removed]"
          },
          "metadata": {
            "needs_background": "light"
          }
        }
      ]
    },
    {
      "cell_type": "code",
      "source": [
        "plt.figure(figsize=(15,5))\n",
        "sns.barplot(x='jaundice',y='Class/ASD',data=Autism)\n",
        "plt.title('Autism Spectrum Disorder vs Jaundice')\n",
        "plt.xlabel('Jaundice')\n",
        "plt.ylabel('Autism Spectrum Disorder')\n",
        "plt.show()"
      ],
      "metadata": {
        "colab": {
          "base_uri": "https://localhost:8080/",
          "height": 350
        },
        "id": "iZNibcPeH-8l",
        "outputId": "836289f4-5aa9-4295-f1cb-073bb6a796b6"
      },
      "execution_count": 38,
      "outputs": [
        {
          "output_type": "display_data",
          "data": {
            "text/plain": [
              "<Figure size 1080x360 with 1 Axes>"
            ],
            "image/png": "[encoded data removed]"
          },
          "metadata": {
            "needs_background": "light"
          }
        }
      ]
    },
    {
      "cell_type": "code",
      "source": [
        "plt.figure(figsize=(15,5))\n",
        "sns.barplot(x='family member with PDD',y='Class/ASD',data=Autism)\n",
        "plt.title('Autism Spectrum Disorder vs Family member with PDD')\n",
        "plt.xlabel('Family member with PDD')\n",
        "plt.ylabel('Autism Spectrum Disorder')\n",
        "plt.show()"
      ],
      "metadata": {
        "colab": {
          "base_uri": "https://localhost:8080/",
          "height": 350
        },
        "id": "eU4SwzFiIDhT",
        "outputId": "6f2ca617-e5fa-4450-a6ea-51b9d496cf28"
      },
      "execution_count": 39,
      "outputs": [
        {
          "output_type": "display_data",
          "data": {
            "text/plain": [
              "<Figure size 1080x360 with 1 Axes>"
            ],
            "image/png": "[encoded data removed]"
          },
          "metadata": {
            "needs_background": "light"
          }
        }
      ]
    },
    {
      "cell_type": "code",
      "source": [
        "plt.figure(figsize=(15,5))\n",
        "sns.barplot(x='relation',y='Class/ASD',data=Autism)\n",
        "plt.title('Autism Spectrum Disorder vs Relation to the Examinee')\n",
        "plt.xlabel('Relation to the Examinee')\n",
        "plt.ylabel('Autism Spectrum Disorder')\n",
        "plt.show()"
      ],
      "metadata": {
        "colab": {
          "base_uri": "https://localhost:8080/",
          "height": 350
        },
        "id": "6j9J3MboIIdZ",
        "outputId": "928fd00b-89ba-446f-f9f1-d4780ab5d20a"
      },
      "execution_count": 40,
      "outputs": [
        {
          "output_type": "display_data",
          "data": {
            "text/plain": [
              "<Figure size 1080x360 with 1 Axes>"
            ],
            "image/png": "[encoded data removed]"
          },
          "metadata": {
            "needs_background": "light"
          }
        }
      ]
    },
    {
      "cell_type": "code",
      "source": [
        "plt.figure(figsize=(15,5))\n",
        "sns.barplot(x='Class/ASD',y='age',data=Autism)\n",
        "plt.title('Autism Spectrum Disorder vs Age')\n",
        "plt.ylabel('Age')\n",
        "plt.xlabel('Autism Spectrum Disorder')\n",
        "plt.show()"
      ],
      "metadata": {
        "colab": {
          "base_uri": "https://localhost:8080/",
          "height": 350
        },
        "id": "BhqlwuhoILj0",
        "outputId": "572fa5ae-0f06-4380-ce3e-2a97a027f850"
      },
      "execution_count": 41,
      "outputs": [
        {
          "output_type": "display_data",
          "data": {
            "text/plain": [
              "<Figure size 1080x360 with 1 Axes>"
            ],
            "image/png": "[encoded data removed]"
          },
          "metadata": {
            "needs_background": "light"
          }
        }
      ]
    },
    {
      "cell_type": "code",
      "source": [
        "pd.set_option('display.max_rows', 100)\n",
        "Autism['country_of_res'].value_counts()"
      ],
      "metadata": {
        "colab": {
          "base_uri": "https://localhost:8080/"
        },
        "id": "wAuRPRuSIOyd",
        "outputId": "eb4a7b5c-529a-41b1-a91b-1d9e7f49c669"
      },
      "execution_count": 42,
      "outputs": [
        {
          "output_type": "execute_result",
          "data": {
            "text/plain": [
              "'United States'           113\n",
              "'United Arab Emirates'     82\n",
              "'New Zealand'              81\n",
              "India                      81\n",
              "'United Kingdom'           77\n",
              "Jordan                     47\n",
              "Australia                  27\n",
              "Canada                     15\n",
              "'Sri Lanka'                14\n",
              "Afghanistan                13\n",
              "France                     11\n",
              "Netherlands                10\n",
              "Brazil                      9\n",
              "Mexico                      8\n",
              "Russia                      7\n",
              "Iran                        7\n",
              "Ireland                     5\n",
              "Malaysia                    5\n",
              "'Viet Nam'                  5\n",
              "Italy                       5\n",
              "Germany                     4\n",
              "Austria                     4\n",
              "Philippines                 4\n",
              "'Saudi Arabia'              4\n",
              "Kazakhstan                  3\n",
              "Belgium                     3\n",
              "Romania                     3\n",
              "Spain                       3\n",
              "Bangladesh                  3\n",
              "Pakistan                    3\n",
              "Egypt                       3\n",
              "Sweden                      2\n",
              "AmericanSamoa               2\n",
              "Ethiopia                    2\n",
              "'South Africa'              2\n",
              "Ukraine                     2\n",
              "Argentina                   2\n",
              "Bahamas                     2\n",
              "Armenia                     2\n",
              "Iceland                     2\n",
              "Aruba                       1\n",
              "Niger                       1\n",
              "Bolivia                     1\n",
              "'Czech Republic'            1\n",
              "Finland                     1\n",
              "Indonesia                   1\n",
              "Turkey                      1\n",
              "Iraq                        1\n",
              "Azerbaijan                  1\n",
              "Angola                      1\n",
              "Nepal                       1\n",
              "Ecuador                     1\n",
              "'Sierra Leone'              1\n",
              "Portugal                    1\n",
              "Serbia                      1\n",
              "Uruguay                     1\n",
              "Japan                       1\n",
              "'Hong Kong'                 1\n",
              "Nicaragua                   1\n",
              "'Costa Rica'                1\n",
              "Oman                        1\n",
              "Tonga                       1\n",
              "China                       1\n",
              "Chile                       1\n",
              "Lebanon                     1\n",
              "Burundi                     1\n",
              "Cyprus                      1\n",
              "Name: country_of_res, dtype: int64"
            ]
          },
          "metadata": {},
          "execution_count": 42
        }
      ]
    },
    {
      "cell_type": "code",
      "source": [
        "Autism_country_of_res = pd.DataFrame(Autism['country_of_res'].value_counts())\n",
        "lis = list(Autism_country_of_res[Autism_country_of_res.country_of_res < 10].index)\n",
        "Autism['country_of_res'] = Autism['country_of_res'].apply(lambda x: 'Others' if x in lis else x)\n",
        "Autism['country_of_res'].value_counts()"
      ],
      "metadata": {
        "colab": {
          "base_uri": "https://localhost:8080/"
        },
        "id": "Br8-IFtMI1z3",
        "outputId": "0a1f935d-e9ac-42cf-9fcf-107e0f0d588d"
      },
      "execution_count": 43,
      "outputs": [
        {
          "output_type": "execute_result",
          "data": {
            "text/plain": [
              "Others                    133\n",
              "'United States'           113\n",
              "'United Arab Emirates'     82\n",
              "'New Zealand'              81\n",
              "India                      81\n",
              "'United Kingdom'           77\n",
              "Jordan                     47\n",
              "Australia                  27\n",
              "Canada                     15\n",
              "'Sri Lanka'                14\n",
              "Afghanistan                13\n",
              "France                     11\n",
              "Netherlands                10\n",
              "Name: country_of_res, dtype: int64"
            ]
          },
          "metadata": {},
          "execution_count": 43
        }
      ]
    },
    {
      "cell_type": "code",
      "source": [
        "plt.figure(figsize=(15,5))\n",
        "sns.barplot(x='Class/ASD',y='country_of_res',data=Autism)\n",
        "plt.title('Autism Spectrum Disorder vs Country')\n",
        "plt.ylabel('Country')\n",
        "plt.xlabel('Autism Spectrum Disorder')\n",
        "plt.show()"
      ],
      "metadata": {
        "colab": {
          "base_uri": "https://localhost:8080/",
          "height": 350
        },
        "id": "lkW4tMNPI3gp",
        "outputId": "6b9840db-de67-4961-9c67-1ded716f3044"
      },
      "execution_count": 44,
      "outputs": [
        {
          "output_type": "display_data",
          "data": {
            "text/plain": [
              "<Figure size 1080x360 with 1 Axes>"
            ],
            "image/png": "[encoded data removed]"
          },
          "metadata": {
            "needs_background": "light"
          }
        }
      ]
    },
    {
      "cell_type": "code",
      "source": [
        "#Model building\n",
        "#We will build a model to predict the a case of ASD or not based on the features provided."
      ],
      "metadata": {
        "id": "vAcBtVhzI-2e"
      },
      "execution_count": 45,
      "outputs": []
    },
    {
      "cell_type": "code",
      "source": [
        "Autism.info()"
      ],
      "metadata": {
        "colab": {
          "base_uri": "https://localhost:8080/"
        },
        "id": "vccm3fZGJCa5",
        "outputId": "1d366555-6286-4371-9d68-b78d7e996fe3"
      },
      "execution_count": 46,
      "outputs": [
        {
          "output_type": "stream",
          "name": "stdout",
          "text": [
            "<class 'pandas.core.frame.DataFrame'>\n",
            "RangeIndex: 704 entries, 0 to 703\n",
            "Data columns (total 20 columns):\n",
            " #   Column                  Non-Null Count  Dtype  \n",
            "---  ------                  --------------  -----  \n",
            " 0   A1_Score                704 non-null    int64  \n",
            " 1   A2_Score                704 non-null    int64  \n",
            " 2   A3_Score                704 non-null    int64  \n",
            " 3   A4_Score                704 non-null    int64  \n",
            " 4   A5_Score                704 non-null    int64  \n",
            " 5   A6_Score                704 non-null    int64  \n",
            " 6   A7_Score                704 non-null    int64  \n",
            " 7   A8_Score                704 non-null    int64  \n",
            " 8   A9_Score                704 non-null    int64  \n",
            " 9   A10_Score               704 non-null    int64  \n",
            " 10  age                     702 non-null    float64\n",
            " 11  gender                  704 non-null    int64  \n",
            " 12  ethnicity               704 non-null    object \n",
            " 13  jaundice                704 non-null    int64  \n",
            " 14  family member with PDD  704 non-null    int64  \n",
            " 15  country_of_res          704 non-null    object \n",
            " 16  used_app_before         704 non-null    int64  \n",
            " 17  result                  704 non-null    int64  \n",
            " 18  relation                704 non-null    object \n",
            " 19  Class/ASD               704 non-null    int64  \n",
            "dtypes: float64(1), int64(16), object(3)\n",
            "memory usage: 110.1+ KB\n"
          ]
        }
      ]
    },
    {
      "cell_type": "code",
      "source": [
        "temp = pd.get_dummies(Autism['ethnicity'],drop_first=False)\n",
        "Autism = pd.concat([Autism,temp],axis=1)\n",
        "Autism.drop('ethnicity',axis=1,inplace=True)\n",
        "\n",
        "temp = pd.get_dummies(Autism['country_of_res'],drop_first=False)\n",
        "Autism = pd.concat([Autism,temp],axis=1)\n",
        "Autism.drop('country_of_res',axis=1,inplace=True)\n",
        "\n",
        "temp = pd.get_dummies(Autism['relation'],drop_first=False)\n",
        "Autism = pd.concat([Autism,temp],axis=1)\n",
        "Autism.drop('relation',axis=1,inplace=True)"
      ],
      "metadata": {
        "id": "sRv-Lw1TJHaa"
      },
      "execution_count": 47,
      "outputs": []
    },
    {
      "cell_type": "code",
      "source": [
        "from sklearn.experimental import enable_iterative_imputer\n",
        "from sklearn.impute import IterativeImputer"
      ],
      "metadata": {
        "id": "7Ru3E_soJKlr"
      },
      "execution_count": 48,
      "outputs": []
    },
    {
      "cell_type": "code",
      "source": [
        "imputer = IterativeImputer()\n",
        "col = Autism.columns\n",
        "Autism = imputer.fit_transform(Autism)\n",
        "Autism = pd.DataFrame(Autism,columns=col)"
      ],
      "metadata": {
        "id": "xvUIUc4bJMPd"
      },
      "execution_count": 49,
      "outputs": []
    },
    {
      "cell_type": "code",
      "source": [
        "Autism.head()"
      ],
      "metadata": {
        "colab": {
          "base_uri": "https://localhost:8080/",
          "height": 317
        },
        "id": "G77W6I3IJPIP",
        "outputId": "a8c62081-5d35-4067-b443-42ae288030f6"
      },
      "execution_count": 50,
      "outputs": [
        {
          "output_type": "execute_result",
          "data": {
            "text/plain": [
              "   A1_Score  A2_Score  A3_Score  A4_Score  A5_Score  A6_Score  A7_Score  \\\n",
              "0       1.0       1.0       1.0       1.0       0.0       0.0       1.0   \n",
              "1       1.0       1.0       0.0       1.0       0.0       0.0       0.0   \n",
              "2       1.0       1.0       0.0       1.0       1.0       0.0       1.0   \n",
              "3       1.0       1.0       0.0       1.0       0.0       0.0       1.0   \n",
              "4       1.0       0.0       0.0       0.0       0.0       0.0       0.0   \n",
              "\n",
              "   A8_Score  A9_Score  A10_Score  ...  India  Jordan  Netherlands  Others  \\\n",
              "0       1.0       0.0        0.0  ...    0.0     0.0          0.0     0.0   \n",
              "1       1.0       0.0        1.0  ...    0.0     0.0          0.0     1.0   \n",
              "2       1.0       1.0        1.0  ...    0.0     0.0          0.0     1.0   \n",
              "3       1.0       0.0        1.0  ...    0.0     0.0          0.0     0.0   \n",
              "4       1.0       0.0        0.0  ...    0.0     0.0          0.0     1.0   \n",
              "\n",
              "   'Health care professional'  Caregiver  Others  Parent  Relative  Self  \n",
              "0                         0.0        0.0     0.0     0.0       0.0   1.0  \n",
              "1                         0.0        0.0     0.0     0.0       0.0   1.0  \n",
              "2                         0.0        0.0     0.0     1.0       0.0   0.0  \n",
              "3                         0.0        0.0     0.0     0.0       0.0   1.0  \n",
              "4                         0.0        1.0     0.0     0.0       0.0   0.0  \n",
              "\n",
              "[5 rows x 45 columns]"
            ],
            "text/html": [
              "\n",
              "  <div id=\"df-a6e18e54-8923-4425-abba-5c0a817301cc\">\n",
              "    <div class=\"colab-df-container\">\n",
              "      <div>\n",
              "<style scoped>\n",
              "    .dataframe tbody tr th:only-of-type {\n",
              "        vertical-align: middle;\n",
              "    }\n",
              "\n",
              "    .dataframe tbody tr th {\n",
              "        vertical-align: top;\n",
              "    }\n",
              "\n",
              "    .dataframe thead th {\n",
              "        text-align: right;\n",
              "    }\n",
              "</style>\n",
              "<table border=\"1\" class=\"dataframe\">\n",
              "  <thead>\n",
              "    <tr style=\"text-align: right;\">\n",
              "      <th></th>\n",
              "      <th>A1_Score</th>\n",
              "      <th>A2_Score</th>\n",
              "      <th>A3_Score</th>\n",
              "      <th>A4_Score</th>\n",
              "      <th>A5_Score</th>\n",
              "      <th>A6_Score</th>\n",
              "      <th>A7_Score</th>\n",
              "      <th>A8_Score</th>\n",
              "      <th>A9_Score</th>\n",
              "      <th>A10_Score</th>\n",
              "      <th>...</th>\n",
              "      <th>India</th>\n",
              "      <th>Jordan</th>\n",
              "      <th>Netherlands</th>\n",
              "      <th>Others</th>\n",
              "      <th>'Health care professional'</th>\n",
              "      <th>Caregiver</th>\n",
              "      <th>Others</th>\n",
              "      <th>Parent</th>\n",
              "      <th>Relative</th>\n",
              "      <th>Self</th>\n",
              "    </tr>\n",
              "  </thead>\n",
              "  <tbody>\n",
              "    <tr>\n",
              "      <th>0</th>\n",
              "      <td>1.0</td>\n",
              "      <td>1.0</td>\n",
              "      <td>1.0</td>\n",
              "      <td>1.0</td>\n",
              "      <td>0.0</td>\n",
              "      <td>0.0</td>\n",
              "      <td>1.0</td>\n",
              "      <td>1.0</td>\n",
              "      <td>0.0</td>\n",
              "      <td>0.0</td>\n",
              "      <td>...</td>\n",
              "      <td>0.0</td>\n",
              "      <td>0.0</td>\n",
              "      <td>0.0</td>\n",
              "      <td>0.0</td>\n",
              "      <td>0.0</td>\n",
              "      <td>0.0</td>\n",
              "      <td>0.0</td>\n",
              "      <td>0.0</td>\n",
              "      <td>0.0</td>\n",
              "      <td>1.0</td>\n",
              "    </tr>\n",
              "    <tr>\n",
              "      <th>1</th>\n",
              "      <td>1.0</td>\n",
              "      <td>1.0</td>\n",
              "      <td>0.0</td>\n",
              "      <td>1.0</td>\n",
              "      <td>0.0</td>\n",
              "      <td>0.0</td>\n",
              "      <td>0.0</td>\n",
              "      <td>1.0</td>\n",
              "      <td>0.0</td>\n",
              "      <td>1.0</td>\n",
              "      <td>...</td>\n",
              "      <td>0.0</td>\n",
              "      <td>0.0</td>\n",
              "      <td>0.0</td>\n",
              "      <td>1.0</td>\n",
              "      <td>0.0</td>\n",
              "      <td>0.0</td>\n",
              "      <td>0.0</td>\n",
              "      <td>0.0</td>\n",
              "      <td>0.0</td>\n",
              "      <td>1.0</td>\n",
              "    </tr>\n",
              "    <tr>\n",
              "      <th>2</th>\n",
              "      <td>1.0</td>\n",
              "      <td>1.0</td>\n",
              "      <td>0.0</td>\n",
              "      <td>1.0</td>\n",
              "      <td>1.0</td>\n",
              "      <td>0.0</td>\n",
              "      <td>1.0</td>\n",
              "      <td>1.0</td>\n",
              "      <td>1.0</td>\n",
              "      <td>1.0</td>\n",
              "      <td>...</td>\n",
              "      <td>0.0</td>\n",
              "      <td>0.0</td>\n",
              "      <td>0.0</td>\n",
              "      <td>1.0</td>\n",
              "      <td>0.0</td>\n",
              "      <td>0.0</td>\n",
              "      <td>0.0</td>\n",
              "      <td>1.0</td>\n",
              "      <td>0.0</td>\n",
              "      <td>0.0</td>\n",
              "    </tr>\n",
              "    <tr>\n",
              "      <th>3</th>\n",
              "      <td>1.0</td>\n",
              "      <td>1.0</td>\n",
              "      <td>0.0</td>\n",
              "      <td>1.0</td>\n",
              "      <td>0.0</td>\n",
              "      <td>0.0</td>\n",
              "      <td>1.0</td>\n",
              "      <td>1.0</td>\n",
              "      <td>0.0</td>\n",
              "      <td>1.0</td>\n",
              "      <td>...</td>\n",
              "      <td>0.0</td>\n",
              "      <td>0.0</td>\n",
              "      <td>0.0</td>\n",
              "      <td>0.0</td>\n",
              "      <td>0.0</td>\n",
              "      <td>0.0</td>\n",
              "      <td>0.0</td>\n",
              "      <td>0.0</td>\n",
              "      <td>0.0</td>\n",
              "      <td>1.0</td>\n",
              "    </tr>\n",
              "    <tr>\n",
              "      <th>4</th>\n",
              "      <td>1.0</td>\n",
              "      <td>0.0</td>\n",
              "      <td>0.0</td>\n",
              "      <td>0.0</td>\n",
              "      <td>0.0</td>\n",
              "      <td>0.0</td>\n",
              "      <td>0.0</td>\n",
              "      <td>1.0</td>\n",
              "      <td>0.0</td>\n",
              "      <td>0.0</td>\n",
              "      <td>...</td>\n",
              "      <td>0.0</td>\n",
              "      <td>0.0</td>\n",
              "      <td>0.0</td>\n",
              "      <td>1.0</td>\n",
              "      <td>0.0</td>\n",
              "      <td>1.0</td>\n",
              "      <td>0.0</td>\n",
              "      <td>0.0</td>\n",
              "      <td>0.0</td>\n",
              "      <td>0.0</td>\n",
              "    </tr>\n",
              "  </tbody>\n",
              "</table>\n",
              "<p>5 rows × 45 columns</p>\n",
              "</div>\n",
              "      <button class=\"colab-df-convert\" onclick=\"convertToInteractive('df-a6e18e54-8923-4425-abba-5c0a817301cc')\"\n",
              "              title=\"Convert this dataframe to an interactive table.\"\n",
              "              style=\"display:none;\">\n",
              "        \n",
              "  <svg xmlns=\"http://www.w3.org/2000/svg\" height=\"24px\"viewBox=\"0 0 24 24\"\n",
              "       width=\"24px\">\n",
              "    <path d=\"M0 0h24v24H0V0z\" fill=\"none\"/>\n",
              "    <path d=\"M18.56 5.44l.94 2.06.94-2.06 2.06-.94-2.06-.94-.94-2.06-.94 2.06-2.06.94zm-11 1L8.5 8.5l.94-2.06 2.06-.94-2.06-.94L8.5 2.5l-.94 2.06-2.06.94zm10 10l.94 2.06.94-2.06 2.06-.94-2.06-.94-.94-2.06-.94 2.06-2.06.94z\"/><path d=\"M17.41 7.96l-1.37-1.37c-.4-.4-.92-.59-1.43-.59-.52 0-1.04.2-1.43.59L10.3 9.45l-7.72 7.72c-.78.78-.78 2.05 0 2.83L4 21.41c.39.39.9.59 1.41.59.51 0 1.02-.2 1.41-.59l7.78-7.78 2.81-2.81c.8-.78.8-2.07 0-2.86zM5.41 20L4 18.59l7.72-7.72 1.47 1.35L5.41 20z\"/>\n",
              "  </svg>\n",
              "      </button>\n",
              "      \n",
              "  <style>\n",
              "    .colab-df-container {\n",
              "      display:flex;\n",
              "      flex-wrap:wrap;\n",
              "      gap: 12px;\n",
              "    }\n",
              "\n",
              "    .colab-df-convert {\n",
              "      background-color: #E8F0FE;\n",
              "      border: none;\n",
              "      border-radius: 50%;\n",
              "      cursor: pointer;\n",
              "      display: none;\n",
              "      fill: #1967D2;\n",
              "      height: 32px;\n",
              "      padding: 0 0 0 0;\n",
              "      width: 32px;\n",
              "    }\n",
              "\n",
              "    .colab-df-convert:hover {\n",
              "      background-color: #E2EBFA;\n",
              "      box-shadow: 0px 1px 2px rgba(60, 64, 67, 0.3), 0px 1px 3px 1px rgba(60, 64, 67, 0.15);\n",
              "      fill: #174EA6;\n",
              "    }\n",
              "\n",
              "    [theme=dark] .colab-df-convert {\n",
              "      background-color: #3B4455;\n",
              "      fill: #D2E3FC;\n",
              "    }\n",
              "\n",
              "    [theme=dark] .colab-df-convert:hover {\n",
              "      background-color: #434B5C;\n",
              "      box-shadow: 0px 1px 3px 1px rgba(0, 0, 0, 0.15);\n",
              "      filter: drop-shadow(0px 1px 2px rgba(0, 0, 0, 0.3));\n",
              "      fill: #FFFFFF;\n",
              "    }\n",
              "  </style>\n",
              "\n",
              "      <script>\n",
              "        const buttonEl =\n",
              "          document.querySelector('#df-a6e18e54-8923-4425-abba-5c0a817301cc button.colab-df-convert');\n",
              "        buttonEl.style.display =\n",
              "          google.colab.kernel.accessAllowed ? 'block' : 'none';\n",
              "\n",
              "        async function convertToInteractive(key) {\n",
              "          const element = document.querySelector('#df-a6e18e54-8923-4425-abba-5c0a817301cc');\n",
              "          const dataTable =\n",
              "            await google.colab.kernel.invokeFunction('convertToInteractive',\n",
              "                                                     [key], {});\n",
              "          if (!dataTable) return;\n",
              "\n",
              "          const docLinkHtml = 'Like what you see? Visit the ' +\n",
              "            '<a target=\"_blank\" href=https://colab.research.google.com/notebooks/data_table.ipynb>data table notebook</a>'\n",
              "            + ' to learn more about interactive tables.';\n",
              "          element.innerHTML = '';\n",
              "          dataTable['output_type'] = 'display_data';\n",
              "          await google.colab.output.renderOutput(dataTable, element);\n",
              "          const docLink = document.createElement('div');\n",
              "          docLink.innerHTML = docLinkHtml;\n",
              "          element.appendChild(docLink);\n",
              "        }\n",
              "      </script>\n",
              "    </div>\n",
              "  </div>\n",
              "  "
            ]
          },
          "metadata": {},
          "execution_count": 50
        }
      ]
    },
    {
      "cell_type": "code",
      "source": [
        "Autism.age.value_counts()\n",
        "Autism.age = Autism.age.round(decimals=0)\n",
        "Autism.age.value_counts()"
      ],
      "metadata": {
        "colab": {
          "base_uri": "https://localhost:8080/"
        },
        "id": "lr2C1sfoJRX7",
        "outputId": "047b0061-fc7e-4670-df85-b569e6d03101"
      },
      "execution_count": 51,
      "outputs": [
        {
          "output_type": "execute_result",
          "data": {
            "text/plain": [
              "21.0     49\n",
              "20.0     46\n",
              "23.0     37\n",
              "22.0     37\n",
              "19.0     35\n",
              "24.0     34\n",
              "27.0     31\n",
              "18.0     31\n",
              "30.0     30\n",
              "26.0     29\n",
              "29.0     28\n",
              "25.0     27\n",
              "28.0     24\n",
              "31.0     21\n",
              "17.0     18\n",
              "32.0     18\n",
              "35.0     17\n",
              "37.0     17\n",
              "33.0     16\n",
              "40.0     16\n",
              "42.0     15\n",
              "36.0     13\n",
              "38.0     12\n",
              "34.0     12\n",
              "43.0     11\n",
              "44.0     10\n",
              "47.0      8\n",
              "39.0      7\n",
              "53.0      6\n",
              "55.0      6\n",
              "46.0      6\n",
              "50.0      5\n",
              "52.0      5\n",
              "45.0      4\n",
              "48.0      4\n",
              "49.0      3\n",
              "41.0      3\n",
              "58.0      2\n",
              "54.0      2\n",
              "56.0      2\n",
              "61.0      2\n",
              "59.0      1\n",
              "64.0      1\n",
              "60.0      1\n",
              "383.0     1\n",
              "51.0      1\n",
              "Name: age, dtype: int64"
            ]
          },
          "metadata": {},
          "execution_count": 51
        }
      ]
    },
    {
      "cell_type": "code",
      "source": [
        "Autism['Class/ASD'].value_counts()"
      ],
      "metadata": {
        "colab": {
          "base_uri": "https://localhost:8080/"
        },
        "id": "G88QhIm4JWft",
        "outputId": "80e458c0-34ef-4fae-fb0b-06cfd6916ccb"
      },
      "execution_count": 52,
      "outputs": [
        {
          "output_type": "execute_result",
          "data": {
            "text/plain": [
              "0.0    515\n",
              "1.0    189\n",
              "Name: Class/ASD, dtype: int64"
            ]
          },
          "metadata": {},
          "execution_count": 52
        }
      ]
    },
    {
      "cell_type": "code",
      "source": [
        "#Dropping the result column as it is an amalgamation of the A1 to 10 columns. "
      ],
      "metadata": {
        "id": "jhjz-d6PJZUJ"
      },
      "execution_count": 53,
      "outputs": []
    },
    {
      "cell_type": "code",
      "source": [
        "X = Autism.drop(['Class/ASD','result'],axis=1)\n",
        "y = Autism['Class/ASD']\n",
        "from sklearn.model_selection import train_test_split\n",
        "X_train, X_test, y_train, y_test = train_test_split(X,y,train_size=0.6,random_state=True)\n",
        "X_train.head()"
      ],
      "metadata": {
        "colab": {
          "base_uri": "https://localhost:8080/",
          "height": 317
        },
        "id": "seDeLuj4JZ7P",
        "outputId": "0a33030e-6530-49fc-b9cb-762c88c6e64b"
      },
      "execution_count": 54,
      "outputs": [
        {
          "output_type": "execute_result",
          "data": {
            "text/plain": [
              "     A1_Score  A2_Score  A3_Score  A4_Score  A5_Score  A6_Score  A7_Score  \\\n",
              "133       1.0       0.0       1.0       1.0       0.0       0.0       0.0   \n",
              "615       1.0       0.0       1.0       1.0       0.0       1.0       0.0   \n",
              "591       0.0       1.0       1.0       1.0       1.0       0.0       1.0   \n",
              "250       1.0       0.0       0.0       0.0       0.0       0.0       1.0   \n",
              "517       1.0       0.0       1.0       1.0       1.0       0.0       1.0   \n",
              "\n",
              "     A8_Score  A9_Score  A10_Score  ...  India  Jordan  Netherlands  Others  \\\n",
              "133       1.0       0.0        1.0  ...    1.0     0.0          0.0     0.0   \n",
              "615       1.0       0.0        1.0  ...    1.0     0.0          0.0     0.0   \n",
              "591       0.0       1.0        0.0  ...    0.0     0.0          0.0     0.0   \n",
              "250       1.0       0.0        0.0  ...    0.0     0.0          0.0     0.0   \n",
              "517       0.0       1.0        1.0  ...    0.0     0.0          0.0     1.0   \n",
              "\n",
              "     'Health care professional'  Caregiver  Others  Parent  Relative  Self  \n",
              "133                         0.0        0.0     0.0     0.0       0.0   1.0  \n",
              "615                         0.0        0.0     0.0     0.0       0.0   1.0  \n",
              "591                         0.0        0.0     0.0     0.0       0.0   1.0  \n",
              "250                         0.0        0.0     0.0     0.0       0.0   1.0  \n",
              "517                         0.0        0.0     0.0     0.0       0.0   1.0  \n",
              "\n",
              "[5 rows x 43 columns]"
            ],
            "text/html": [
              "\n",
              "  <div id=\"df-4dff877b-5699-45dd-a6c3-a09af12ab616\">\n",
              "    <div class=\"colab-df-container\">\n",
              "      <div>\n",
              "<style scoped>\n",
              "    .dataframe tbody tr th:only-of-type {\n",
              "        vertical-align: middle;\n",
              "    }\n",
              "\n",
              "    .dataframe tbody tr th {\n",
              "        vertical-align: top;\n",
              "    }\n",
              "\n",
              "    .dataframe thead th {\n",
              "        text-align: right;\n",
              "    }\n",
              "</style>\n",
              "<table border=\"1\" class=\"dataframe\">\n",
              "  <thead>\n",
              "    <tr style=\"text-align: right;\">\n",
              "      <th></th>\n",
              "      <th>A1_Score</th>\n",
              "      <th>A2_Score</th>\n",
              "      <th>A3_Score</th>\n",
              "      <th>A4_Score</th>\n",
              "      <th>A5_Score</th>\n",
              "      <th>A6_Score</th>\n",
              "      <th>A7_Score</th>\n",
              "      <th>A8_Score</th>\n",
              "      <th>A9_Score</th>\n",
              "      <th>A10_Score</th>\n",
              "      <th>...</th>\n",
              "      <th>India</th>\n",
              "      <th>Jordan</th>\n",
              "      <th>Netherlands</th>\n",
              "      <th>Others</th>\n",
              "      <th>'Health care professional'</th>\n",
              "      <th>Caregiver</th>\n",
              "      <th>Others</th>\n",
              "      <th>Parent</th>\n",
              "      <th>Relative</th>\n",
              "      <th>Self</th>\n",
              "    </tr>\n",
              "  </thead>\n",
              "  <tbody>\n",
              "    <tr>\n",
              "      <th>133</th>\n",
              "      <td>1.0</td>\n",
              "      <td>0.0</td>\n",
              "      <td>1.0</td>\n",
              "      <td>1.0</td>\n",
              "      <td>0.0</td>\n",
              "      <td>0.0</td>\n",
              "      <td>0.0</td>\n",
              "      <td>1.0</td>\n",
              "      <td>0.0</td>\n",
              "      <td>1.0</td>\n",
              "      <td>...</td>\n",
              "      <td>1.0</td>\n",
              "      <td>0.0</td>\n",
              "      <td>0.0</td>\n",
              "      <td>0.0</td>\n",
              "      <td>0.0</td>\n",
              "      <td>0.0</td>\n",
              "      <td>0.0</td>\n",
              "      <td>0.0</td>\n",
              "      <td>0.0</td>\n",
              "      <td>1.0</td>\n",
              "    </tr>\n",
              "    <tr>\n",
              "      <th>615</th>\n",
              "      <td>1.0</td>\n",
              "      <td>0.0</td>\n",
              "      <td>1.0</td>\n",
              "      <td>1.0</td>\n",
              "      <td>0.0</td>\n",
              "      <td>1.0</td>\n",
              "      <td>0.0</td>\n",
              "      <td>1.0</td>\n",
              "      <td>0.0</td>\n",
              "      <td>1.0</td>\n",
              "      <td>...</td>\n",
              "      <td>1.0</td>\n",
              "      <td>0.0</td>\n",
              "      <td>0.0</td>\n",
              "      <td>0.0</td>\n",
              "      <td>0.0</td>\n",
              "      <td>0.0</td>\n",
              "      <td>0.0</td>\n",
              "      <td>0.0</td>\n",
              "      <td>0.0</td>\n",
              "      <td>1.0</td>\n",
              "    </tr>\n",
              "    <tr>\n",
              "      <th>591</th>\n",
              "      <td>0.0</td>\n",
              "      <td>1.0</td>\n",
              "      <td>1.0</td>\n",
              "      <td>1.0</td>\n",
              "      <td>1.0</td>\n",
              "      <td>0.0</td>\n",
              "      <td>1.0</td>\n",
              "      <td>0.0</td>\n",
              "      <td>1.0</td>\n",
              "      <td>0.0</td>\n",
              "      <td>...</td>\n",
              "      <td>0.0</td>\n",
              "      <td>0.0</td>\n",
              "      <td>0.0</td>\n",
              "      <td>0.0</td>\n",
              "      <td>0.0</td>\n",
              "      <td>0.0</td>\n",
              "      <td>0.0</td>\n",
              "      <td>0.0</td>\n",
              "      <td>0.0</td>\n",
              "      <td>1.0</td>\n",
              "    </tr>\n",
              "    <tr>\n",
              "      <th>250</th>\n",
              "      <td>1.0</td>\n",
              "      <td>0.0</td>\n",
              "      <td>0.0</td>\n",
              "      <td>0.0</td>\n",
              "      <td>0.0</td>\n",
              "      <td>0.0</td>\n",
              "      <td>1.0</td>\n",
              "      <td>1.0</td>\n",
              "      <td>0.0</td>\n",
              "      <td>0.0</td>\n",
              "      <td>...</td>\n",
              "      <td>0.0</td>\n",
              "      <td>0.0</td>\n",
              "      <td>0.0</td>\n",
              "      <td>0.0</td>\n",
              "      <td>0.0</td>\n",
              "      <td>0.0</td>\n",
              "      <td>0.0</td>\n",
              "      <td>0.0</td>\n",
              "      <td>0.0</td>\n",
              "      <td>1.0</td>\n",
              "    </tr>\n",
              "    <tr>\n",
              "      <th>517</th>\n",
              "      <td>1.0</td>\n",
              "      <td>0.0</td>\n",
              "      <td>1.0</td>\n",
              "      <td>1.0</td>\n",
              "      <td>1.0</td>\n",
              "      <td>0.0</td>\n",
              "      <td>1.0</td>\n",
              "      <td>0.0</td>\n",
              "      <td>1.0</td>\n",
              "      <td>1.0</td>\n",
              "      <td>...</td>\n",
              "      <td>0.0</td>\n",
              "      <td>0.0</td>\n",
              "      <td>0.0</td>\n",
              "      <td>1.0</td>\n",
              "      <td>0.0</td>\n",
              "      <td>0.0</td>\n",
              "      <td>0.0</td>\n",
              "      <td>0.0</td>\n",
              "      <td>0.0</td>\n",
              "      <td>1.0</td>\n",
              "    </tr>\n",
              "  </tbody>\n",
              "</table>\n",
              "<p>5 rows × 43 columns</p>\n",
              "</div>\n",
              "      <button class=\"colab-df-convert\" onclick=\"convertToInteractive('df-4dff877b-5699-45dd-a6c3-a09af12ab616')\"\n",
              "              title=\"Convert this dataframe to an interactive table.\"\n",
              "              style=\"display:none;\">\n",
              "        \n",
              "  <svg xmlns=\"http://www.w3.org/2000/svg\" height=\"24px\"viewBox=\"0 0 24 24\"\n",
              "       width=\"24px\">\n",
              "    <path d=\"M0 0h24v24H0V0z\" fill=\"none\"/>\n",
              "    <path d=\"M18.56 5.44l.94 2.06.94-2.06 2.06-.94-2.06-.94-.94-2.06-.94 2.06-2.06.94zm-11 1L8.5 8.5l.94-2.06 2.06-.94-2.06-.94L8.5 2.5l-.94 2.06-2.06.94zm10 10l.94 2.06.94-2.06 2.06-.94-2.06-.94-.94-2.06-.94 2.06-2.06.94z\"/><path d=\"M17.41 7.96l-1.37-1.37c-.4-.4-.92-.59-1.43-.59-.52 0-1.04.2-1.43.59L10.3 9.45l-7.72 7.72c-.78.78-.78 2.05 0 2.83L4 21.41c.39.39.9.59 1.41.59.51 0 1.02-.2 1.41-.59l7.78-7.78 2.81-2.81c.8-.78.8-2.07 0-2.86zM5.41 20L4 18.59l7.72-7.72 1.47 1.35L5.41 20z\"/>\n",
              "  </svg>\n",
              "      </button>\n",
              "      \n",
              "  <style>\n",
              "    .colab-df-container {\n",
              "      display:flex;\n",
              "      flex-wrap:wrap;\n",
              "      gap: 12px;\n",
              "    }\n",
              "\n",
              "    .colab-df-convert {\n",
              "      background-color: #E8F0FE;\n",
              "      border: none;\n",
              "      border-radius: 50%;\n",
              "      cursor: pointer;\n",
              "      display: none;\n",
              "      fill: #1967D2;\n",
              "      height: 32px;\n",
              "      padding: 0 0 0 0;\n",
              "      width: 32px;\n",
              "    }\n",
              "\n",
              "    .colab-df-convert:hover {\n",
              "      background-color: #E2EBFA;\n",
              "      box-shadow: 0px 1px 2px rgba(60, 64, 67, 0.3), 0px 1px 3px 1px rgba(60, 64, 67, 0.15);\n",
              "      fill: #174EA6;\n",
              "    }\n",
              "\n",
              "    [theme=dark] .colab-df-convert {\n",
              "      background-color: #3B4455;\n",
              "      fill: #D2E3FC;\n",
              "    }\n",
              "\n",
              "    [theme=dark] .colab-df-convert:hover {\n",
              "      background-color: #434B5C;\n",
              "      box-shadow: 0px 1px 3px 1px rgba(0, 0, 0, 0.15);\n",
              "      filter: drop-shadow(0px 1px 2px rgba(0, 0, 0, 0.3));\n",
              "      fill: #FFFFFF;\n",
              "    }\n",
              "  </style>\n",
              "\n",
              "      <script>\n",
              "        const buttonEl =\n",
              "          document.querySelector('#df-4dff877b-5699-45dd-a6c3-a09af12ab616 button.colab-df-convert');\n",
              "        buttonEl.style.display =\n",
              "          google.colab.kernel.accessAllowed ? 'block' : 'none';\n",
              "\n",
              "        async function convertToInteractive(key) {\n",
              "          const element = document.querySelector('#df-4dff877b-5699-45dd-a6c3-a09af12ab616');\n",
              "          const dataTable =\n",
              "            await google.colab.kernel.invokeFunction('convertToInteractive',\n",
              "                                                     [key], {});\n",
              "          if (!dataTable) return;\n",
              "\n",
              "          const docLinkHtml = 'Like what you see? Visit the ' +\n",
              "            '<a target=\"_blank\" href=https://colab.research.google.com/notebooks/data_table.ipynb>data table notebook</a>'\n",
              "            + ' to learn more about interactive tables.';\n",
              "          element.innerHTML = '';\n",
              "          dataTable['output_type'] = 'display_data';\n",
              "          await google.colab.output.renderOutput(dataTable, element);\n",
              "          const docLink = document.createElement('div');\n",
              "          docLink.innerHTML = docLinkHtml;\n",
              "          element.appendChild(docLink);\n",
              "        }\n",
              "      </script>\n",
              "    </div>\n",
              "  </div>\n",
              "  "
            ]
          },
          "metadata": {},
          "execution_count": 54
        }
      ]
    },
    {
      "cell_type": "code",
      "source": [
        "from sklearn.ensemble import RandomForestClassifier\n",
        "from sklearn.model_selection import GridSearchCV"
      ],
      "metadata": {
        "id": "SM93evUTJgWA"
      },
      "execution_count": 55,
      "outputs": []
    },
    {
      "cell_type": "code",
      "source": [
        "#Using recall as well as accuracy for scoring. However focussing on the recall models since we are dealing with an important \n",
        "#adverse human condition. "
      ],
      "metadata": {
        "id": "GACO_LFeJjO4"
      },
      "execution_count": 56,
      "outputs": []
    },
    {
      "cell_type": "code",
      "source": [
        "Model = RandomForestClassifier(random_state=100,n_jobs=-1,class_weight='balanced')\n",
        "\n",
        "params = {'n_estimators':[200],\n",
        "          'min_samples_leaf':[2,5,10,15,30,40,50],\n",
        "          'max_depth':[3,5,10,20,40,50],\n",
        "          'max_features':[0.1,0.15,0.2,0.25,0.3,0.35,0.4,0.45,0.5,0.55,0.6,0.65,0.7],\n",
        "          'criterion':[\"gini\"]}\n",
        "\n",
        "grid_search = GridSearchCV(estimator=Model,param_grid=params,verbose=1,n_jobs=-1,scoring='recall')\n",
        "grid_search.fit(X_train,y_train)"
      ],
      "metadata": {
        "colab": {
          "base_uri": "https://localhost:8080/"
        },
        "id": "7sd5IyJHJkVm",
        "outputId": "85310190-a793-4f3a-ba87-aaac86f7635f"
      },
      "execution_count": 57,
      "outputs": [
        {
          "output_type": "stream",
          "name": "stdout",
          "text": [
            "Fitting 5 folds for each of 546 candidates, totalling 2730 fits\n"
          ]
        },
        {
          "output_type": "execute_result",
          "data": {
            "text/plain": [
              "GridSearchCV(estimator=RandomForestClassifier(class_weight='balanced',\n",
              "                                              n_jobs=-1, random_state=100),\n",
              "             n_jobs=-1,\n",
              "             param_grid={'criterion': ['gini'],\n",
              "                         'max_depth': [3, 5, 10, 20, 40, 50],\n",
              "                         'max_features': [0.1, 0.15, 0.2, 0.25, 0.3, 0.35, 0.4,\n",
              "                                          0.45, 0.5, 0.55, 0.6, 0.65, 0.7],\n",
              "                         'min_samples_leaf': [2, 5, 10, 15, 30, 40, 50],\n",
              "                         'n_estimators': [200]},\n",
              "             scoring='recall', verbose=1)"
            ]
          },
          "metadata": {},
          "execution_count": 57
        }
      ]
    },
    {
      "cell_type": "code",
      "source": [
        "Model_best = grid_search.best_estimator_\n"
      ],
      "metadata": {
        "id": "IBRSafm1n-sH"
      },
      "execution_count": 58,
      "outputs": []
    },
    {
      "cell_type": "code",
      "source": [
        "from sklearn.metrics import plot_roc_curve, accuracy_score, recall_score\n",
        "plot_roc_curve(Model_best,X_train,y_train)\n",
        "y_train_pred = Model_best.predict(X_train)\n",
        "\n",
        "print(accuracy_score(y_train,y_train_pred))\n",
        "print(recall_score(y_train,y_train_pred))"
      ],
      "metadata": {
        "colab": {
          "base_uri": "https://localhost:8080/",
          "height": 315
        },
        "id": "_oSlhxLMoBUU",
        "outputId": "51a0e8e5-ba75-4f0f-8010-f891abb0e05a"
      },
      "execution_count": 59,
      "outputs": [
        {
          "output_type": "stream",
          "name": "stdout",
          "text": [
            "0.9360189573459715\n",
            "0.9734513274336283\n"
          ]
        },
        {
          "output_type": "display_data",
          "data": {
            "text/plain": [
              "<Figure size 432x288 with 1 Axes>"
            ],
            "image/png": "[encoded data removed]"
          },
          "metadata": {
            "needs_background": "light"
          }
        }
      ]
    },
    {
      "cell_type": "code",
      "source": [
        "plot_roc_curve(Model_best,X_test,y_test)\n",
        "y_test_pred = Model_best.predict(X_test)\n",
        "\n",
        "print(accuracy_score(y_test,y_test_pred))\n",
        "print(recall_score(y_test,y_test_pred))"
      ],
      "metadata": {
        "colab": {
          "base_uri": "https://localhost:8080/",
          "height": 315
        },
        "id": "o0VdYuYtoEvJ",
        "outputId": "10ed1200-3040-49d1-e969-2ce4210d7193"
      },
      "execution_count": 60,
      "outputs": [
        {
          "output_type": "stream",
          "name": "stdout",
          "text": [
            "0.925531914893617\n",
            "0.8947368421052632\n"
          ]
        },
        {
          "output_type": "display_data",
          "data": {
            "text/plain": [
              "<Figure size 432x288 with 1 Axes>"
            ],
            "image/png": "[encoded data removed]"
          },
          "metadata": {
            "needs_background": "light"
          }
        }
      ]
    },
    {
      "cell_type": "code",
      "source": [
        "Feature_importance = pd.DataFrame({'Feature':X_train.columns,'Importance':Model_best.feature_importances_})\n",
        "Feature_importance = Feature_importance.sort_values(by='Importance',ascending=False)\n",
        "Feature_importance = Feature_importance.set_index('Feature')\n",
        "Feature_importance.head()"
      ],
      "metadata": {
        "colab": {
          "base_uri": "https://localhost:8080/",
          "height": 238
        },
        "id": "FSHwlPC0oGI9",
        "outputId": "83616ce2-32da-49e1-eb05-ef85fd4407e9"
      },
      "execution_count": 61,
      "outputs": [
        {
          "output_type": "execute_result",
          "data": {
            "text/plain": [
              "          Importance\n",
              "Feature             \n",
              "A9_Score    0.206577\n",
              "A5_Score    0.159253\n",
              "A4_Score    0.135674\n",
              "A6_Score    0.117753\n",
              "A3_Score    0.079832"
            ],
            "text/html": [
              "\n",
              "  <div id=\"df-13a8dde0-623e-4283-aec8-60461062a02c\">\n",
              "    <div class=\"colab-df-container\">\n",
              "      <div>\n",
              "<style scoped>\n",
              "    .dataframe tbody tr th:only-of-type {\n",
              "        vertical-align: middle;\n",
              "    }\n",
              "\n",
              "    .dataframe tbody tr th {\n",
              "        vertical-align: top;\n",
              "    }\n",
              "\n",
              "    .dataframe thead th {\n",
              "        text-align: right;\n",
              "    }\n",
              "</style>\n",
              "<table border=\"1\" class=\"dataframe\">\n",
              "  <thead>\n",
              "    <tr style=\"text-align: right;\">\n",
              "      <th></th>\n",
              "      <th>Importance</th>\n",
              "    </tr>\n",
              "    <tr>\n",
              "      <th>Feature</th>\n",
              "      <th></th>\n",
              "    </tr>\n",
              "  </thead>\n",
              "  <tbody>\n",
              "    <tr>\n",
              "      <th>A9_Score</th>\n",
              "      <td>0.206577</td>\n",
              "    </tr>\n",
              "    <tr>\n",
              "      <th>A5_Score</th>\n",
              "      <td>0.159253</td>\n",
              "    </tr>\n",
              "    <tr>\n",
              "      <th>A4_Score</th>\n",
              "      <td>0.135674</td>\n",
              "    </tr>\n",
              "    <tr>\n",
              "      <th>A6_Score</th>\n",
              "      <td>0.117753</td>\n",
              "    </tr>\n",
              "    <tr>\n",
              "      <th>A3_Score</th>\n",
              "      <td>0.079832</td>\n",
              "    </tr>\n",
              "  </tbody>\n",
              "</table>\n",
              "</div>\n",
              "      <button class=\"colab-df-convert\" onclick=\"convertToInteractive('df-13a8dde0-623e-4283-aec8-60461062a02c')\"\n",
              "              title=\"Convert this dataframe to an interactive table.\"\n",
              "              style=\"display:none;\">\n",
              "        \n",
              "  <svg xmlns=\"http://www.w3.org/2000/svg\" height=\"24px\"viewBox=\"0 0 24 24\"\n",
              "       width=\"24px\">\n",
              "    <path d=\"M0 0h24v24H0V0z\" fill=\"none\"/>\n",
              "    <path d=\"M18.56 5.44l.94 2.06.94-2.06 2.06-.94-2.06-.94-.94-2.06-.94 2.06-2.06.94zm-11 1L8.5 8.5l.94-2.06 2.06-.94-2.06-.94L8.5 2.5l-.94 2.06-2.06.94zm10 10l.94 2.06.94-2.06 2.06-.94-2.06-.94-.94-2.06-.94 2.06-2.06.94z\"/><path d=\"M17.41 7.96l-1.37-1.37c-.4-.4-.92-.59-1.43-.59-.52 0-1.04.2-1.43.59L10.3 9.45l-7.72 7.72c-.78.78-.78 2.05 0 2.83L4 21.41c.39.39.9.59 1.41.59.51 0 1.02-.2 1.41-.59l7.78-7.78 2.81-2.81c.8-.78.8-2.07 0-2.86zM5.41 20L4 18.59l7.72-7.72 1.47 1.35L5.41 20z\"/>\n",
              "  </svg>\n",
              "      </button>\n",
              "      \n",
              "  <style>\n",
              "    .colab-df-container {\n",
              "      display:flex;\n",
              "      flex-wrap:wrap;\n",
              "      gap: 12px;\n",
              "    }\n",
              "\n",
              "    .colab-df-convert {\n",
              "      background-color: #E8F0FE;\n",
              "      border: none;\n",
              "      border-radius: 50%;\n",
              "      cursor: pointer;\n",
              "      display: none;\n",
              "      fill: #1967D2;\n",
              "      height: 32px;\n",
              "      padding: 0 0 0 0;\n",
              "      width: 32px;\n",
              "    }\n",
              "\n",
              "    .colab-df-convert:hover {\n",
              "      background-color: #E2EBFA;\n",
              "      box-shadow: 0px 1px 2px rgba(60, 64, 67, 0.3), 0px 1px 3px 1px rgba(60, 64, 67, 0.15);\n",
              "      fill: #174EA6;\n",
              "    }\n",
              "\n",
              "    [theme=dark] .colab-df-convert {\n",
              "      background-color: #3B4455;\n",
              "      fill: #D2E3FC;\n",
              "    }\n",
              "\n",
              "    [theme=dark] .colab-df-convert:hover {\n",
              "      background-color: #434B5C;\n",
              "      box-shadow: 0px 1px 3px 1px rgba(0, 0, 0, 0.15);\n",
              "      filter: drop-shadow(0px 1px 2px rgba(0, 0, 0, 0.3));\n",
              "      fill: #FFFFFF;\n",
              "    }\n",
              "  </style>\n",
              "\n",
              "      <script>\n",
              "        const buttonEl =\n",
              "          document.querySelector('#df-13a8dde0-623e-4283-aec8-60461062a02c button.colab-df-convert');\n",
              "        buttonEl.style.display =\n",
              "          google.colab.kernel.accessAllowed ? 'block' : 'none';\n",
              "\n",
              "        async function convertToInteractive(key) {\n",
              "          const element = document.querySelector('#df-13a8dde0-623e-4283-aec8-60461062a02c');\n",
              "          const dataTable =\n",
              "            await google.colab.kernel.invokeFunction('convertToInteractive',\n",
              "                                                     [key], {});\n",
              "          if (!dataTable) return;\n",
              "\n",
              "          const docLinkHtml = 'Like what you see? Visit the ' +\n",
              "            '<a target=\"_blank\" href=https://colab.research.google.com/notebooks/data_table.ipynb>data table notebook</a>'\n",
              "            + ' to learn more about interactive tables.';\n",
              "          element.innerHTML = '';\n",
              "          dataTable['output_type'] = 'display_data';\n",
              "          await google.colab.output.renderOutput(dataTable, element);\n",
              "          const docLink = document.createElement('div');\n",
              "          docLink.innerHTML = docLinkHtml;\n",
              "          element.appendChild(docLink);\n",
              "        }\n",
              "      </script>\n",
              "    </div>\n",
              "  </div>\n",
              "  "
            ]
          },
          "metadata": {},
          "execution_count": 61
        }
      ]
    },
    {
      "cell_type": "code",
      "source": [
        "plt.figure(figsize=(10,10))\n",
        "sns.barplot(x='Importance',y=Feature_importance.index,data=Feature_importance)\n",
        "plt.title('Feature vs Importance')\n",
        "plt.xlabel('Importance')\n",
        "plt.ylabel('Feature')\n",
        "plt.show()"
      ],
      "metadata": {
        "colab": {
          "base_uri": "https://localhost:8080/",
          "height": 621
        },
        "id": "qguZ8PScoK2R",
        "outputId": "c1583d5a-7be4-4df9-a9bc-6520c0c15723"
      },
      "execution_count": 62,
      "outputs": [
        {
          "output_type": "display_data",
          "data": {
            "text/plain": [
              "<Figure size 720x720 with 1 Axes>"
            ],
            "image/png": "[encoded data removed]"
          },
          "metadata": {
            "needs_background": "light"
          }
        }
      ]
    },
    {
      "cell_type": "code",
      "source": [
        "#As we can see we get prety good accuracy and recall scores using recall as scoring. Now let us try using accuracy as scoring."
      ],
      "metadata": {
        "id": "FeIkL6M5oOFr"
      },
      "execution_count": 63,
      "outputs": []
    },
    {
      "cell_type": "code",
      "source": [
        "Model = RandomForestClassifier(random_state=100,n_jobs=-1,class_weight='balanced')\n",
        "\n",
        "params = {'n_estimators':[200],\n",
        "          'min_samples_leaf':[2,5,10,15,30,40,50],\n",
        "          'max_depth':[3,5,10,20,40,50],\n",
        "          'max_features':[0.1,0.15,0.2,0.25,0.3,0.35,0.4,0.45,0.5,0.55,0.6],\n",
        "          'criterion':[\"gini\"]}\n",
        "\n",
        "grid_search = GridSearchCV(estimator=Model,param_grid=params,verbose=1,n_jobs=-1,scoring='accuracy')\n",
        "grid_search.fit(X_train,y_train)"
      ],
      "metadata": {
        "colab": {
          "base_uri": "https://localhost:8080/"
        },
        "id": "vIYnlOffoQ1w",
        "outputId": "95a867f2-f54a-4279-ead1-5855817582b7"
      },
      "execution_count": 64,
      "outputs": [
        {
          "output_type": "stream",
          "name": "stdout",
          "text": [
            "Fitting 5 folds for each of 462 candidates, totalling 2310 fits\n"
          ]
        },
        {
          "output_type": "execute_result",
          "data": {
            "text/plain": [
              "GridSearchCV(estimator=RandomForestClassifier(class_weight='balanced',\n",
              "                                              n_jobs=-1, random_state=100),\n",
              "             n_jobs=-1,\n",
              "             param_grid={'criterion': ['gini'],\n",
              "                         'max_depth': [3, 5, 10, 20, 40, 50],\n",
              "                         'max_features': [0.1, 0.15, 0.2, 0.25, 0.3, 0.35, 0.4,\n",
              "                                          0.45, 0.5, 0.55, 0.6],\n",
              "                         'min_samples_leaf': [2, 5, 10, 15, 30, 40, 50],\n",
              "                         'n_estimators': [200]},\n",
              "             scoring='accuracy', verbose=1)"
            ]
          },
          "metadata": {},
          "execution_count": 64
        }
      ]
    },
    {
      "cell_type": "code",
      "source": [
        "Model_best = grid_search.best_estimator_"
      ],
      "metadata": {
        "id": "utPYwsEiqvsB"
      },
      "execution_count": 65,
      "outputs": []
    },
    {
      "cell_type": "code",
      "source": [
        "from sklearn.metrics import plot_roc_curve, accuracy_score, recall_score\n",
        "plot_roc_curve(Model_best,X_train,y_train)\n",
        "y_train_pred = Model_best.predict(X_train)\n",
        "\n",
        "print(accuracy_score(y_train,y_train_pred))\n",
        "print(recall_score(y_train,y_train_pred))"
      ],
      "metadata": {
        "colab": {
          "base_uri": "https://localhost:8080/",
          "height": 315
        },
        "id": "F7UqtbuOqyZ7",
        "outputId": "658827b3-2050-43b4-92c0-4964c4ba0418"
      },
      "execution_count": 66,
      "outputs": [
        {
          "output_type": "stream",
          "name": "stdout",
          "text": [
            "0.995260663507109\n",
            "1.0\n"
          ]
        },
        {
          "output_type": "display_data",
          "data": {
            "text/plain": [
              "<Figure size 432x288 with 1 Axes>"
            ],
            "image/png": "[encoded data removed]"
          },
          "metadata": {
            "needs_background": "light"
          }
        }
      ]
    },
    {
      "cell_type": "code",
      "source": [
        "plot_roc_curve(Model_best,X_test,y_test)\n",
        "y_test_pred = Model_best.predict(X_test)\n",
        "\n",
        "print(accuracy_score(y_test,y_test_pred))\n",
        "print(recall_score(y_test,y_test_pred))"
      ],
      "metadata": {
        "colab": {
          "base_uri": "https://localhost:8080/",
          "height": 315
        },
        "id": "wJOECMpqq1zV",
        "outputId": "d83321c0-23fb-4ac2-825b-6b6f21df6c41"
      },
      "execution_count": 67,
      "outputs": [
        {
          "output_type": "stream",
          "name": "stdout",
          "text": [
            "0.9609929078014184\n",
            "0.9210526315789473\n"
          ]
        },
        {
          "output_type": "display_data",
          "data": {
            "text/plain": [
              "<Figure size 432x288 with 1 Axes>"
            ],
            "image/png": "[encoded data removed]"
          },
          "metadata": {
            "needs_background": "light"
          }
        }
      ]
    },
    {
      "cell_type": "code",
      "source": [
        "Feature_importance = pd.DataFrame({'Feature':X_train.columns,'Importance':Model_best.feature_importances_})\n",
        "Feature_importance = Feature_importance.sort_values(by='Importance',ascending=False)\n",
        "Feature_importance = Feature_importance.set_index('Feature')\n",
        "Feature_importance.head()"
      ],
      "metadata": {
        "colab": {
          "base_uri": "https://localhost:8080/",
          "height": 238
        },
        "id": "aVB6ekVTq4gh",
        "outputId": "03737e78-9314-4c54-ffa0-a31276205bb0"
      },
      "execution_count": 68,
      "outputs": [
        {
          "output_type": "execute_result",
          "data": {
            "text/plain": [
              "          Importance\n",
              "Feature             \n",
              "A9_Score    0.217280\n",
              "A5_Score    0.147078\n",
              "A6_Score    0.117689\n",
              "A4_Score    0.086354\n",
              "A3_Score    0.061562"
            ],
            "text/html": [
              "\n",
              "  <div id=\"df-6acb5ebf-952a-4de0-b5ec-c907cc30ef4d\">\n",
              "    <div class=\"colab-df-container\">\n",
              "      <div>\n",
              "<style scoped>\n",
              "    .dataframe tbody tr th:only-of-type {\n",
              "        vertical-align: middle;\n",
              "    }\n",
              "\n",
              "    .dataframe tbody tr th {\n",
              "        vertical-align: top;\n",
              "    }\n",
              "\n",
              "    .dataframe thead th {\n",
              "        text-align: right;\n",
              "    }\n",
              "</style>\n",
              "<table border=\"1\" class=\"dataframe\">\n",
              "  <thead>\n",
              "    <tr style=\"text-align: right;\">\n",
              "      <th></th>\n",
              "      <th>Importance</th>\n",
              "    </tr>\n",
              "    <tr>\n",
              "      <th>Feature</th>\n",
              "      <th></th>\n",
              "    </tr>\n",
              "  </thead>\n",
              "  <tbody>\n",
              "    <tr>\n",
              "      <th>A9_Score</th>\n",
              "      <td>0.217280</td>\n",
              "    </tr>\n",
              "    <tr>\n",
              "      <th>A5_Score</th>\n",
              "      <td>0.147078</td>\n",
              "    </tr>\n",
              "    <tr>\n",
              "      <th>A6_Score</th>\n",
              "      <td>0.117689</td>\n",
              "    </tr>\n",
              "    <tr>\n",
              "      <th>A4_Score</th>\n",
              "      <td>0.086354</td>\n",
              "    </tr>\n",
              "    <tr>\n",
              "      <th>A3_Score</th>\n",
              "      <td>0.061562</td>\n",
              "    </tr>\n",
              "  </tbody>\n",
              "</table>\n",
              "</div>\n",
              "      <button class=\"colab-df-convert\" onclick=\"convertToInteractive('df-6acb5ebf-952a-4de0-b5ec-c907cc30ef4d')\"\n",
              "              title=\"Convert this dataframe to an interactive table.\"\n",
              "              style=\"display:none;\">\n",
              "        \n",
              "  <svg xmlns=\"http://www.w3.org/2000/svg\" height=\"24px\"viewBox=\"0 0 24 24\"\n",
              "       width=\"24px\">\n",
              "    <path d=\"M0 0h24v24H0V0z\" fill=\"none\"/>\n",
              "    <path d=\"M18.56 5.44l.94 2.06.94-2.06 2.06-.94-2.06-.94-.94-2.06-.94 2.06-2.06.94zm-11 1L8.5 8.5l.94-2.06 2.06-.94-2.06-.94L8.5 2.5l-.94 2.06-2.06.94zm10 10l.94 2.06.94-2.06 2.06-.94-2.06-.94-.94-2.06-.94 2.06-2.06.94z\"/><path d=\"M17.41 7.96l-1.37-1.37c-.4-.4-.92-.59-1.43-.59-.52 0-1.04.2-1.43.59L10.3 9.45l-7.72 7.72c-.78.78-.78 2.05 0 2.83L4 21.41c.39.39.9.59 1.41.59.51 0 1.02-.2 1.41-.59l7.78-7.78 2.81-2.81c.8-.78.8-2.07 0-2.86zM5.41 20L4 18.59l7.72-7.72 1.47 1.35L5.41 20z\"/>\n",
              "  </svg>\n",
              "      </button>\n",
              "      \n",
              "  <style>\n",
              "    .colab-df-container {\n",
              "      display:flex;\n",
              "      flex-wrap:wrap;\n",
              "      gap: 12px;\n",
              "    }\n",
              "\n",
              "    .colab-df-convert {\n",
              "      background-color: #E8F0FE;\n",
              "      border: none;\n",
              "      border-radius: 50%;\n",
              "      cursor: pointer;\n",
              "      display: none;\n",
              "      fill: #1967D2;\n",
              "      height: 32px;\n",
              "      padding: 0 0 0 0;\n",
              "      width: 32px;\n",
              "    }\n",
              "\n",
              "    .colab-df-convert:hover {\n",
              "      background-color: #E2EBFA;\n",
              "      box-shadow: 0px 1px 2px rgba(60, 64, 67, 0.3), 0px 1px 3px 1px rgba(60, 64, 67, 0.15);\n",
              "      fill: #174EA6;\n",
              "    }\n",
              "\n",
              "    [theme=dark] .colab-df-convert {\n",
              "      background-color: #3B4455;\n",
              "      fill: #D2E3FC;\n",
              "    }\n",
              "\n",
              "    [theme=dark] .colab-df-convert:hover {\n",
              "      background-color: #434B5C;\n",
              "      box-shadow: 0px 1px 3px 1px rgba(0, 0, 0, 0.15);\n",
              "      filter: drop-shadow(0px 1px 2px rgba(0, 0, 0, 0.3));\n",
              "      fill: #FFFFFF;\n",
              "    }\n",
              "  </style>\n",
              "\n",
              "      <script>\n",
              "        const buttonEl =\n",
              "          document.querySelector('#df-6acb5ebf-952a-4de0-b5ec-c907cc30ef4d button.colab-df-convert');\n",
              "        buttonEl.style.display =\n",
              "          google.colab.kernel.accessAllowed ? 'block' : 'none';\n",
              "\n",
              "        async function convertToInteractive(key) {\n",
              "          const element = document.querySelector('#df-6acb5ebf-952a-4de0-b5ec-c907cc30ef4d');\n",
              "          const dataTable =\n",
              "            await google.colab.kernel.invokeFunction('convertToInteractive',\n",
              "                                                     [key], {});\n",
              "          if (!dataTable) return;\n",
              "\n",
              "          const docLinkHtml = 'Like what you see? Visit the ' +\n",
              "            '<a target=\"_blank\" href=https://colab.research.google.com/notebooks/data_table.ipynb>data table notebook</a>'\n",
              "            + ' to learn more about interactive tables.';\n",
              "          element.innerHTML = '';\n",
              "          dataTable['output_type'] = 'display_data';\n",
              "          await google.colab.output.renderOutput(dataTable, element);\n",
              "          const docLink = document.createElement('div');\n",
              "          docLink.innerHTML = docLinkHtml;\n",
              "          element.appendChild(docLink);\n",
              "        }\n",
              "      </script>\n",
              "    </div>\n",
              "  </div>\n",
              "  "
            ]
          },
          "metadata": {},
          "execution_count": 68
        }
      ]
    },
    {
      "cell_type": "code",
      "source": [
        "plt.figure(figsize=(10,10))\n",
        "sns.barplot(x='Importance',y=Feature_importance.index,data=Feature_importance)\n",
        "plt.title('Feature vs Importance')\n",
        "plt.xlabel('Importance')\n",
        "plt.ylabel('Feature')\n",
        "plt.show()"
      ],
      "metadata": {
        "colab": {
          "base_uri": "https://localhost:8080/",
          "height": 621
        },
        "id": "45yKd3B-q996",
        "outputId": "cdecbf08-0efb-4248-e1b8-f6ad6d586177"
      },
      "execution_count": 69,
      "outputs": [
        {
          "output_type": "display_data",
          "data": {
            "text/plain": [
              "<Figure size 720x720 with 1 Axes>"
            ],
            "image/png": "[encoded data removed]"
          },
          "metadata": {
            "needs_background": "light"
          }
        }
      ]
    },
    {
      "cell_type": "code",
      "source": [
        "#As we can see we here from the feature importance there is a larger number of features that actually contribute to the predict \n",
        "#the target variable. \n",
        "#We will now try SVMs. We will build models using both recal and accuracy scoring. "
      ],
      "metadata": {
        "id": "Tm0_XHarrBhD"
      },
      "execution_count": 70,
      "outputs": []
    },
    {
      "cell_type": "code",
      "source": [
        "from sklearn.svm import SVC"
      ],
      "metadata": {
        "id": "uotC29dNrEdj"
      },
      "execution_count": 71,
      "outputs": []
    },
    {
      "cell_type": "code",
      "source": [
        "col = X.columns\n",
        "from sklearn.preprocessing import StandardScaler\n",
        "scaler = StandardScaler()\n",
        "X_scaled = scaler.fit_transform(X)\n",
        "X_scaled = pd.DataFrame(X_scaled,columns=col)\n",
        "X_scaled.head()"
      ],
      "metadata": {
        "colab": {
          "base_uri": "https://localhost:8080/",
          "height": 317
        },
        "id": "hqMj4uwkrNTk",
        "outputId": "52fb91fe-9a6d-44a9-da96-b18d52b22a80"
      },
      "execution_count": 72,
      "outputs": [
        {
          "output_type": "execute_result",
          "data": {
            "text/plain": [
              "   A1_Score  A2_Score  A3_Score  A4_Score  A5_Score  A6_Score  A7_Score  \\\n",
              "0   0.62115  1.098588  1.089190  1.008559 -0.997163 -0.629941  1.180914   \n",
              "1   0.62115  1.098588 -0.918113  1.008559 -0.997163 -0.629941 -0.846802   \n",
              "2   0.62115  1.098588 -0.918113  1.008559  1.002845 -0.629941  1.180914   \n",
              "3   0.62115  1.098588 -0.918113  1.008559 -0.997163 -0.629941  1.180914   \n",
              "4   0.62115 -0.910259 -0.918113 -0.991513 -0.997163 -0.629941 -0.846802   \n",
              "\n",
              "   A8_Score  A9_Score  A10_Score  ...     India    Jordan  Netherlands  \\\n",
              "0  0.735174 -0.692092  -1.160460  ... -0.360577 -0.267465    -0.120038   \n",
              "1  0.735174 -0.692092   0.861727  ... -0.360577 -0.267465    -0.120038   \n",
              "2  0.735174  1.444894   0.861727  ... -0.360577 -0.267465    -0.120038   \n",
              "3  0.735174 -0.692092   0.861727  ... -0.360577 -0.267465    -0.120038   \n",
              "4  0.735174 -0.692092  -1.160460  ... -0.360577 -0.267465    -0.120038   \n",
              "\n",
              "     Others  'Health care professional'  Caregiver    Others    Parent  \\\n",
              "0 -0.482623                   -0.075593  -0.394960 -0.084576 -0.276501   \n",
              "1  2.072012                   -0.075593  -0.394960 -0.084576 -0.276501   \n",
              "2  2.072012                   -0.075593  -0.394960 -0.084576  3.616628   \n",
              "3 -0.482623                   -0.075593  -0.394960 -0.084576 -0.276501   \n",
              "4  2.072012                   -0.075593   2.531902 -0.084576 -0.276501   \n",
              "\n",
              "   Relative      Self  \n",
              "0 -0.203519  0.590474  \n",
              "1 -0.203519  0.590474  \n",
              "2 -0.203519 -1.693556  \n",
              "3 -0.203519  0.590474  \n",
              "4 -0.203519 -1.693556  \n",
              "\n",
              "[5 rows x 43 columns]"
            ],
            "text/html": [
              "\n",
              "  <div id=\"df-777f0036-499d-45ac-bf3c-4f92ad09df67\">\n",
              "    <div class=\"colab-df-container\">\n",
              "      <div>\n",
              "<style scoped>\n",
              "    .dataframe tbody tr th:only-of-type {\n",
              "        vertical-align: middle;\n",
              "    }\n",
              "\n",
              "    .dataframe tbody tr th {\n",
              "        vertical-align: top;\n",
              "    }\n",
              "\n",
              "    .dataframe thead th {\n",
              "        text-align: right;\n",
              "    }\n",
              "</style>\n",
              "<table border=\"1\" class=\"dataframe\">\n",
              "  <thead>\n",
              "    <tr style=\"text-align: right;\">\n",
              "      <th></th>\n",
              "      <th>A1_Score</th>\n",
              "      <th>A2_Score</th>\n",
              "      <th>A3_Score</th>\n",
              "      <th>A4_Score</th>\n",
              "      <th>A5_Score</th>\n",
              "      <th>A6_Score</th>\n",
              "      <th>A7_Score</th>\n",
              "      <th>A8_Score</th>\n",
              "      <th>A9_Score</th>\n",
              "      <th>A10_Score</th>\n",
              "      <th>...</th>\n",
              "      <th>India</th>\n",
              "      <th>Jordan</th>\n",
              "      <th>Netherlands</th>\n",
              "      <th>Others</th>\n",
              "      <th>'Health care professional'</th>\n",
              "      <th>Caregiver</th>\n",
              "      <th>Others</th>\n",
              "      <th>Parent</th>\n",
              "      <th>Relative</th>\n",
              "      <th>Self</th>\n",
              "    </tr>\n",
              "  </thead>\n",
              "  <tbody>\n",
              "    <tr>\n",
              "      <th>0</th>\n",
              "      <td>0.62115</td>\n",
              "      <td>1.098588</td>\n",
              "      <td>1.089190</td>\n",
              "      <td>1.008559</td>\n",
              "      <td>-0.997163</td>\n",
              "      <td>-0.629941</td>\n",
              "      <td>1.180914</td>\n",
              "      <td>0.735174</td>\n",
              "      <td>-0.692092</td>\n",
              "      <td>-1.160460</td>\n",
              "      <td>...</td>\n",
              "      <td>-0.360577</td>\n",
              "      <td>-0.267465</td>\n",
              "      <td>-0.120038</td>\n",
              "      <td>-0.482623</td>\n",
              "      <td>-0.075593</td>\n",
              "      <td>-0.394960</td>\n",
              "      <td>-0.084576</td>\n",
              "      <td>-0.276501</td>\n",
              "      <td>-0.203519</td>\n",
              "      <td>0.590474</td>\n",
              "    </tr>\n",
              "    <tr>\n",
              "      <th>1</th>\n",
              "      <td>0.62115</td>\n",
              "      <td>1.098588</td>\n",
              "      <td>-0.918113</td>\n",
              "      <td>1.008559</td>\n",
              "      <td>-0.997163</td>\n",
              "      <td>-0.629941</td>\n",
              "      <td>-0.846802</td>\n",
              "      <td>0.735174</td>\n",
              "      <td>-0.692092</td>\n",
              "      <td>0.861727</td>\n",
              "      <td>...</td>\n",
              "      <td>-0.360577</td>\n",
              "      <td>-0.267465</td>\n",
              "      <td>-0.120038</td>\n",
              "      <td>2.072012</td>\n",
              "      <td>-0.075593</td>\n",
              "      <td>-0.394960</td>\n",
              "      <td>-0.084576</td>\n",
              "      <td>-0.276501</td>\n",
              "      <td>-0.203519</td>\n",
              "      <td>0.590474</td>\n",
              "    </tr>\n",
              "    <tr>\n",
              "      <th>2</th>\n",
              "      <td>0.62115</td>\n",
              "      <td>1.098588</td>\n",
              "      <td>-0.918113</td>\n",
              "      <td>1.008559</td>\n",
              "      <td>1.002845</td>\n",
              "      <td>-0.629941</td>\n",
              "      <td>1.180914</td>\n",
              "      <td>0.735174</td>\n",
              "      <td>1.444894</td>\n",
              "      <td>0.861727</td>\n",
              "      <td>...</td>\n",
              "      <td>-0.360577</td>\n",
              "      <td>-0.267465</td>\n",
              "      <td>-0.120038</td>\n",
              "      <td>2.072012</td>\n",
              "      <td>-0.075593</td>\n",
              "      <td>-0.394960</td>\n",
              "      <td>-0.084576</td>\n",
              "      <td>3.616628</td>\n",
              "      <td>-0.203519</td>\n",
              "      <td>-1.693556</td>\n",
              "    </tr>\n",
              "    <tr>\n",
              "      <th>3</th>\n",
              "      <td>0.62115</td>\n",
              "      <td>1.098588</td>\n",
              "      <td>-0.918113</td>\n",
              "      <td>1.008559</td>\n",
              "      <td>-0.997163</td>\n",
              "      <td>-0.629941</td>\n",
              "      <td>1.180914</td>\n",
              "      <td>0.735174</td>\n",
              "      <td>-0.692092</td>\n",
              "      <td>0.861727</td>\n",
              "      <td>...</td>\n",
              "      <td>-0.360577</td>\n",
              "      <td>-0.267465</td>\n",
              "      <td>-0.120038</td>\n",
              "      <td>-0.482623</td>\n",
              "      <td>-0.075593</td>\n",
              "      <td>-0.394960</td>\n",
              "      <td>-0.084576</td>\n",
              "      <td>-0.276501</td>\n",
              "      <td>-0.203519</td>\n",
              "      <td>0.590474</td>\n",
              "    </tr>\n",
              "    <tr>\n",
              "      <th>4</th>\n",
              "      <td>0.62115</td>\n",
              "      <td>-0.910259</td>\n",
              "      <td>-0.918113</td>\n",
              "      <td>-0.991513</td>\n",
              "      <td>-0.997163</td>\n",
              "      <td>-0.629941</td>\n",
              "      <td>-0.846802</td>\n",
              "      <td>0.735174</td>\n",
              "      <td>-0.692092</td>\n",
              "      <td>-1.160460</td>\n",
              "      <td>...</td>\n",
              "      <td>-0.360577</td>\n",
              "      <td>-0.267465</td>\n",
              "      <td>-0.120038</td>\n",
              "      <td>2.072012</td>\n",
              "      <td>-0.075593</td>\n",
              "      <td>2.531902</td>\n",
              "      <td>-0.084576</td>\n",
              "      <td>-0.276501</td>\n",
              "      <td>-0.203519</td>\n",
              "      <td>-1.693556</td>\n",
              "    </tr>\n",
              "  </tbody>\n",
              "</table>\n",
              "<p>5 rows × 43 columns</p>\n",
              "</div>\n",
              "      <button class=\"colab-df-convert\" onclick=\"convertToInteractive('df-777f0036-499d-45ac-bf3c-4f92ad09df67')\"\n",
              "              title=\"Convert this dataframe to an interactive table.\"\n",
              "              style=\"display:none;\">\n",
              "        \n",
              "  <svg xmlns=\"http://www.w3.org/2000/svg\" height=\"24px\"viewBox=\"0 0 24 24\"\n",
              "       width=\"24px\">\n",
              "    <path d=\"M0 0h24v24H0V0z\" fill=\"none\"/>\n",
              "    <path d=\"M18.56 5.44l.94 2.06.94-2.06 2.06-.94-2.06-.94-.94-2.06-.94 2.06-2.06.94zm-11 1L8.5 8.5l.94-2.06 2.06-.94-2.06-.94L8.5 2.5l-.94 2.06-2.06.94zm10 10l.94 2.06.94-2.06 2.06-.94-2.06-.94-.94-2.06-.94 2.06-2.06.94z\"/><path d=\"M17.41 7.96l-1.37-1.37c-.4-.4-.92-.59-1.43-.59-.52 0-1.04.2-1.43.59L10.3 9.45l-7.72 7.72c-.78.78-.78 2.05 0 2.83L4 21.41c.39.39.9.59 1.41.59.51 0 1.02-.2 1.41-.59l7.78-7.78 2.81-2.81c.8-.78.8-2.07 0-2.86zM5.41 20L4 18.59l7.72-7.72 1.47 1.35L5.41 20z\"/>\n",
              "  </svg>\n",
              "      </button>\n",
              "      \n",
              "  <style>\n",
              "    .colab-df-container {\n",
              "      display:flex;\n",
              "      flex-wrap:wrap;\n",
              "      gap: 12px;\n",
              "    }\n",
              "\n",
              "    .colab-df-convert {\n",
              "      background-color: #E8F0FE;\n",
              "      border: none;\n",
              "      border-radius: 50%;\n",
              "      cursor: pointer;\n",
              "      display: none;\n",
              "      fill: #1967D2;\n",
              "      height: 32px;\n",
              "      padding: 0 0 0 0;\n",
              "      width: 32px;\n",
              "    }\n",
              "\n",
              "    .colab-df-convert:hover {\n",
              "      background-color: #E2EBFA;\n",
              "      box-shadow: 0px 1px 2px rgba(60, 64, 67, 0.3), 0px 1px 3px 1px rgba(60, 64, 67, 0.15);\n",
              "      fill: #174EA6;\n",
              "    }\n",
              "\n",
              "    [theme=dark] .colab-df-convert {\n",
              "      background-color: #3B4455;\n",
              "      fill: #D2E3FC;\n",
              "    }\n",
              "\n",
              "    [theme=dark] .colab-df-convert:hover {\n",
              "      background-color: #434B5C;\n",
              "      box-shadow: 0px 1px 3px 1px rgba(0, 0, 0, 0.15);\n",
              "      filter: drop-shadow(0px 1px 2px rgba(0, 0, 0, 0.3));\n",
              "      fill: #FFFFFF;\n",
              "    }\n",
              "  </style>\n",
              "\n",
              "      <script>\n",
              "        const buttonEl =\n",
              "          document.querySelector('#df-777f0036-499d-45ac-bf3c-4f92ad09df67 button.colab-df-convert');\n",
              "        buttonEl.style.display =\n",
              "          google.colab.kernel.accessAllowed ? 'block' : 'none';\n",
              "\n",
              "        async function convertToInteractive(key) {\n",
              "          const element = document.querySelector('#df-777f0036-499d-45ac-bf3c-4f92ad09df67');\n",
              "          const dataTable =\n",
              "            await google.colab.kernel.invokeFunction('convertToInteractive',\n",
              "                                                     [key], {});\n",
              "          if (!dataTable) return;\n",
              "\n",
              "          const docLinkHtml = 'Like what you see? Visit the ' +\n",
              "            '<a target=\"_blank\" href=https://colab.research.google.com/notebooks/data_table.ipynb>data table notebook</a>'\n",
              "            + ' to learn more about interactive tables.';\n",
              "          element.innerHTML = '';\n",
              "          dataTable['output_type'] = 'display_data';\n",
              "          await google.colab.output.renderOutput(dataTable, element);\n",
              "          const docLink = document.createElement('div');\n",
              "          docLink.innerHTML = docLinkHtml;\n",
              "          element.appendChild(docLink);\n",
              "        }\n",
              "      </script>\n",
              "    </div>\n",
              "  </div>\n",
              "  "
            ]
          },
          "metadata": {},
          "execution_count": 72
        }
      ]
    },
    {
      "cell_type": "code",
      "source": [
        "X_train, X_test, y_train, y_test = train_test_split(X_scaled,y,train_size=0.6,random_state=100)\n",
        "X_train.head()"
      ],
      "metadata": {
        "colab": {
          "base_uri": "https://localhost:8080/",
          "height": 317
        },
        "id": "MFiQ3LwBrQRC",
        "outputId": "5ad71750-3b94-4c16-c294-d2ee4520adc4"
      },
      "execution_count": 73,
      "outputs": [
        {
          "output_type": "execute_result",
          "data": {
            "text/plain": [
              "     A1_Score  A2_Score  A3_Score  A4_Score  A5_Score  A6_Score  A7_Score  \\\n",
              "345   0.62115 -0.910259 -0.918113 -0.991513 -0.997163 -0.629941 -0.846802   \n",
              "96    0.62115 -0.910259 -0.918113 -0.991513  1.002845 -0.629941  1.180914   \n",
              "5     0.62115  1.098588  1.089190  1.008559  1.002845 -0.629941  1.180914   \n",
              "270   0.62115 -0.910259  1.089190  1.008559  1.002845  1.587451 -0.846802   \n",
              "199   0.62115  1.098588  1.089190  1.008559 -0.997163 -0.629941 -0.846802   \n",
              "\n",
              "     A8_Score  A9_Score  A10_Score  ...     India    Jordan  Netherlands  \\\n",
              "345 -1.360221 -0.692092  -1.160460  ... -0.360577  3.738813    -0.120038   \n",
              "96   0.735174 -0.692092  -1.160460  ... -0.360577 -0.267465    -0.120038   \n",
              "5    0.735174  1.444894   0.861727  ... -0.360577 -0.267465    -0.120038   \n",
              "270 -1.360221  1.444894   0.861727  ... -0.360577 -0.267465    -0.120038   \n",
              "199 -1.360221 -0.692092  -1.160460  ... -0.360577 -0.267465    -0.120038   \n",
              "\n",
              "       Others  'Health care professional'  Caregiver    Others    Parent  \\\n",
              "345 -0.482623                   -0.075593   2.531902 -0.084576 -0.276501   \n",
              "96  -0.482623                   -0.075593  -0.394960 -0.084576 -0.276501   \n",
              "5   -0.482623                   -0.075593  -0.394960 -0.084576 -0.276501   \n",
              "270  2.072012                   -0.075593   2.531902 -0.084576 -0.276501   \n",
              "199 -0.482623                   -0.075593  -0.394960 -0.084576 -0.276501   \n",
              "\n",
              "     Relative      Self  \n",
              "345 -0.203519 -1.693556  \n",
              "96  -0.203519  0.590474  \n",
              "5   -0.203519  0.590474  \n",
              "270 -0.203519 -1.693556  \n",
              "199 -0.203519  0.590474  \n",
              "\n",
              "[5 rows x 43 columns]"
            ],
            "text/html": [
              "\n",
              "  <div id=\"df-b01336c9-72e1-4fe7-9aee-14e8fac61636\">\n",
              "    <div class=\"colab-df-container\">\n",
              "      <div>\n",
              "<style scoped>\n",
              "    .dataframe tbody tr th:only-of-type {\n",
              "        vertical-align: middle;\n",
              "    }\n",
              "\n",
              "    .dataframe tbody tr th {\n",
              "        vertical-align: top;\n",
              "    }\n",
              "\n",
              "    .dataframe thead th {\n",
              "        text-align: right;\n",
              "    }\n",
              "</style>\n",
              "<table border=\"1\" class=\"dataframe\">\n",
              "  <thead>\n",
              "    <tr style=\"text-align: right;\">\n",
              "      <th></th>\n",
              "      <th>A1_Score</th>\n",
              "      <th>A2_Score</th>\n",
              "      <th>A3_Score</th>\n",
              "      <th>A4_Score</th>\n",
              "      <th>A5_Score</th>\n",
              "      <th>A6_Score</th>\n",
              "      <th>A7_Score</th>\n",
              "      <th>A8_Score</th>\n",
              "      <th>A9_Score</th>\n",
              "      <th>A10_Score</th>\n",
              "      <th>...</th>\n",
              "      <th>India</th>\n",
              "      <th>Jordan</th>\n",
              "      <th>Netherlands</th>\n",
              "      <th>Others</th>\n",
              "      <th>'Health care professional'</th>\n",
              "      <th>Caregiver</th>\n",
              "      <th>Others</th>\n",
              "      <th>Parent</th>\n",
              "      <th>Relative</th>\n",
              "      <th>Self</th>\n",
              "    </tr>\n",
              "  </thead>\n",
              "  <tbody>\n",
              "    <tr>\n",
              "      <th>345</th>\n",
              "      <td>0.62115</td>\n",
              "      <td>-0.910259</td>\n",
              "      <td>-0.918113</td>\n",
              "      <td>-0.991513</td>\n",
              "      <td>-0.997163</td>\n",
              "      <td>-0.629941</td>\n",
              "      <td>-0.846802</td>\n",
              "      <td>-1.360221</td>\n",
              "      <td>-0.692092</td>\n",
              "      <td>-1.160460</td>\n",
              "      <td>...</td>\n",
              "      <td>-0.360577</td>\n",
              "      <td>3.738813</td>\n",
              "      <td>-0.120038</td>\n",
              "      <td>-0.482623</td>\n",
              "      <td>-0.075593</td>\n",
              "      <td>2.531902</td>\n",
              "      <td>-0.084576</td>\n",
              "      <td>-0.276501</td>\n",
              "      <td>-0.203519</td>\n",
              "      <td>-1.693556</td>\n",
              "    </tr>\n",
              "    <tr>\n",
              "      <th>96</th>\n",
              "      <td>0.62115</td>\n",
              "      <td>-0.910259</td>\n",
              "      <td>-0.918113</td>\n",
              "      <td>-0.991513</td>\n",
              "      <td>1.002845</td>\n",
              "      <td>-0.629941</td>\n",
              "      <td>1.180914</td>\n",
              "      <td>0.735174</td>\n",
              "      <td>-0.692092</td>\n",
              "      <td>-1.160460</td>\n",
              "      <td>...</td>\n",
              "      <td>-0.360577</td>\n",
              "      <td>-0.267465</td>\n",
              "      <td>-0.120038</td>\n",
              "      <td>-0.482623</td>\n",
              "      <td>-0.075593</td>\n",
              "      <td>-0.394960</td>\n",
              "      <td>-0.084576</td>\n",
              "      <td>-0.276501</td>\n",
              "      <td>-0.203519</td>\n",
              "      <td>0.590474</td>\n",
              "    </tr>\n",
              "    <tr>\n",
              "      <th>5</th>\n",
              "      <td>0.62115</td>\n",
              "      <td>1.098588</td>\n",
              "      <td>1.089190</td>\n",
              "      <td>1.008559</td>\n",
              "      <td>1.002845</td>\n",
              "      <td>-0.629941</td>\n",
              "      <td>1.180914</td>\n",
              "      <td>0.735174</td>\n",
              "      <td>1.444894</td>\n",
              "      <td>0.861727</td>\n",
              "      <td>...</td>\n",
              "      <td>-0.360577</td>\n",
              "      <td>-0.267465</td>\n",
              "      <td>-0.120038</td>\n",
              "      <td>-0.482623</td>\n",
              "      <td>-0.075593</td>\n",
              "      <td>-0.394960</td>\n",
              "      <td>-0.084576</td>\n",
              "      <td>-0.276501</td>\n",
              "      <td>-0.203519</td>\n",
              "      <td>0.590474</td>\n",
              "    </tr>\n",
              "    <tr>\n",
              "      <th>270</th>\n",
              "      <td>0.62115</td>\n",
              "      <td>-0.910259</td>\n",
              "      <td>1.089190</td>\n",
              "      <td>1.008559</td>\n",
              "      <td>1.002845</td>\n",
              "      <td>1.587451</td>\n",
              "      <td>-0.846802</td>\n",
              "      <td>-1.360221</td>\n",
              "      <td>1.444894</td>\n",
              "      <td>0.861727</td>\n",
              "      <td>...</td>\n",
              "      <td>-0.360577</td>\n",
              "      <td>-0.267465</td>\n",
              "      <td>-0.120038</td>\n",
              "      <td>2.072012</td>\n",
              "      <td>-0.075593</td>\n",
              "      <td>2.531902</td>\n",
              "      <td>-0.084576</td>\n",
              "      <td>-0.276501</td>\n",
              "      <td>-0.203519</td>\n",
              "      <td>-1.693556</td>\n",
              "    </tr>\n",
              "    <tr>\n",
              "      <th>199</th>\n",
              "      <td>0.62115</td>\n",
              "      <td>1.098588</td>\n",
              "      <td>1.089190</td>\n",
              "      <td>1.008559</td>\n",
              "      <td>-0.997163</td>\n",
              "      <td>-0.629941</td>\n",
              "      <td>-0.846802</td>\n",
              "      <td>-1.360221</td>\n",
              "      <td>-0.692092</td>\n",
              "      <td>-1.160460</td>\n",
              "      <td>...</td>\n",
              "      <td>-0.360577</td>\n",
              "      <td>-0.267465</td>\n",
              "      <td>-0.120038</td>\n",
              "      <td>-0.482623</td>\n",
              "      <td>-0.075593</td>\n",
              "      <td>-0.394960</td>\n",
              "      <td>-0.084576</td>\n",
              "      <td>-0.276501</td>\n",
              "      <td>-0.203519</td>\n",
              "      <td>0.590474</td>\n",
              "    </tr>\n",
              "  </tbody>\n",
              "</table>\n",
              "<p>5 rows × 43 columns</p>\n",
              "</div>\n",
              "      <button class=\"colab-df-convert\" onclick=\"convertToInteractive('df-b01336c9-72e1-4fe7-9aee-14e8fac61636')\"\n",
              "              title=\"Convert this dataframe to an interactive table.\"\n",
              "              style=\"display:none;\">\n",
              "        \n",
              "  <svg xmlns=\"http://www.w3.org/2000/svg\" height=\"24px\"viewBox=\"0 0 24 24\"\n",
              "       width=\"24px\">\n",
              "    <path d=\"M0 0h24v24H0V0z\" fill=\"none\"/>\n",
              "    <path d=\"M18.56 5.44l.94 2.06.94-2.06 2.06-.94-2.06-.94-.94-2.06-.94 2.06-2.06.94zm-11 1L8.5 8.5l.94-2.06 2.06-.94-2.06-.94L8.5 2.5l-.94 2.06-2.06.94zm10 10l.94 2.06.94-2.06 2.06-.94-2.06-.94-.94-2.06-.94 2.06-2.06.94z\"/><path d=\"M17.41 7.96l-1.37-1.37c-.4-.4-.92-.59-1.43-.59-.52 0-1.04.2-1.43.59L10.3 9.45l-7.72 7.72c-.78.78-.78 2.05 0 2.83L4 21.41c.39.39.9.59 1.41.59.51 0 1.02-.2 1.41-.59l7.78-7.78 2.81-2.81c.8-.78.8-2.07 0-2.86zM5.41 20L4 18.59l7.72-7.72 1.47 1.35L5.41 20z\"/>\n",
              "  </svg>\n",
              "      </button>\n",
              "      \n",
              "  <style>\n",
              "    .colab-df-container {\n",
              "      display:flex;\n",
              "      flex-wrap:wrap;\n",
              "      gap: 12px;\n",
              "    }\n",
              "\n",
              "    .colab-df-convert {\n",
              "      background-color: #E8F0FE;\n",
              "      border: none;\n",
              "      border-radius: 50%;\n",
              "      cursor: pointer;\n",
              "      display: none;\n",
              "      fill: #1967D2;\n",
              "      height: 32px;\n",
              "      padding: 0 0 0 0;\n",
              "      width: 32px;\n",
              "    }\n",
              "\n",
              "    .colab-df-convert:hover {\n",
              "      background-color: #E2EBFA;\n",
              "      box-shadow: 0px 1px 2px rgba(60, 64, 67, 0.3), 0px 1px 3px 1px rgba(60, 64, 67, 0.15);\n",
              "      fill: #174EA6;\n",
              "    }\n",
              "\n",
              "    [theme=dark] .colab-df-convert {\n",
              "      background-color: #3B4455;\n",
              "      fill: #D2E3FC;\n",
              "    }\n",
              "\n",
              "    [theme=dark] .colab-df-convert:hover {\n",
              "      background-color: #434B5C;\n",
              "      box-shadow: 0px 1px 3px 1px rgba(0, 0, 0, 0.15);\n",
              "      filter: drop-shadow(0px 1px 2px rgba(0, 0, 0, 0.3));\n",
              "      fill: #FFFFFF;\n",
              "    }\n",
              "  </style>\n",
              "\n",
              "      <script>\n",
              "        const buttonEl =\n",
              "          document.querySelector('#df-b01336c9-72e1-4fe7-9aee-14e8fac61636 button.colab-df-convert');\n",
              "        buttonEl.style.display =\n",
              "          google.colab.kernel.accessAllowed ? 'block' : 'none';\n",
              "\n",
              "        async function convertToInteractive(key) {\n",
              "          const element = document.querySelector('#df-b01336c9-72e1-4fe7-9aee-14e8fac61636');\n",
              "          const dataTable =\n",
              "            await google.colab.kernel.invokeFunction('convertToInteractive',\n",
              "                                                     [key], {});\n",
              "          if (!dataTable) return;\n",
              "\n",
              "          const docLinkHtml = 'Like what you see? Visit the ' +\n",
              "            '<a target=\"_blank\" href=https://colab.research.google.com/notebooks/data_table.ipynb>data table notebook</a>'\n",
              "            + ' to learn more about interactive tables.';\n",
              "          element.innerHTML = '';\n",
              "          dataTable['output_type'] = 'display_data';\n",
              "          await google.colab.output.renderOutput(dataTable, element);\n",
              "          const docLink = document.createElement('div');\n",
              "          docLink.innerHTML = docLinkHtml;\n",
              "          element.appendChild(docLink);\n",
              "        }\n",
              "      </script>\n",
              "    </div>\n",
              "  </div>\n",
              "  "
            ]
          },
          "metadata": {},
          "execution_count": 73
        }
      ]
    },
    {
      "cell_type": "code",
      "source": [
        "Model = SVC(random_state=100,class_weight='balanced')\n",
        "\n",
        "params = {'C':[0.0001,0.001,0.01,0.1,1,10,100,1000,10000],\n",
        "          'gamma':[10000,1000,100,10,1,0.1,0.001,0.0001,0.00001]}\n",
        "\n",
        "grid_search = GridSearchCV(estimator=Model,param_grid=params,verbose=1,n_jobs=-1,scoring='recall')\n",
        "grid_search.fit(X_train,y_train)"
      ],
      "metadata": {
        "colab": {
          "base_uri": "https://localhost:8080/"
        },
        "id": "taB0mHk1rSwn",
        "outputId": "a2abe9e4-f6cf-4285-87ff-39a1efee3a53"
      },
      "execution_count": 74,
      "outputs": [
        {
          "output_type": "stream",
          "name": "stdout",
          "text": [
            "Fitting 5 folds for each of 81 candidates, totalling 405 fits\n"
          ]
        },
        {
          "output_type": "execute_result",
          "data": {
            "text/plain": [
              "GridSearchCV(estimator=SVC(class_weight='balanced', random_state=100),\n",
              "             n_jobs=-1,\n",
              "             param_grid={'C': [0.0001, 0.001, 0.01, 0.1, 1, 10, 100, 1000,\n",
              "                               10000],\n",
              "                         'gamma': [10000, 1000, 100, 10, 1, 0.1, 0.001, 0.0001,\n",
              "                                   1e-05]},\n",
              "             scoring='recall', verbose=1)"
            ]
          },
          "metadata": {},
          "execution_count": 74
        }
      ]
    },
    {
      "cell_type": "code",
      "source": [
        "Model_best = grid_search.best_estimator_"
      ],
      "metadata": {
        "id": "xDbRTK2erZHI"
      },
      "execution_count": 75,
      "outputs": []
    },
    {
      "cell_type": "code",
      "source": [
        "plot_roc_curve(Model_best,X_train,y_train)\n",
        "y_train_pred = Model_best.predict(X_train)\n",
        "\n",
        "print(accuracy_score(y_train,y_train_pred))\n",
        "print(recall_score(y_train,y_train_pred))"
      ],
      "metadata": {
        "colab": {
          "base_uri": "https://localhost:8080/",
          "height": 315
        },
        "id": "oBc2i-oCrhZq",
        "outputId": "91df0a65-8742-4246-ecd0-18ae7ec1eb7e"
      },
      "execution_count": 76,
      "outputs": [
        {
          "output_type": "stream",
          "name": "stdout",
          "text": [
            "0.995260663507109\n",
            "1.0\n"
          ]
        },
        {
          "output_type": "display_data",
          "data": {
            "text/plain": [
              "<Figure size 432x288 with 1 Axes>"
            ],
            "image/png": "[encoded data removed]"
          },
          "metadata": {
            "needs_background": "light"
          }
        }
      ]
    },
    {
      "cell_type": "code",
      "source": [
        "plot_roc_curve(Model_best,X_test,y_test)\n",
        "y_test_pred = Model_best.predict(X_test)\n",
        "\n",
        "print(accuracy_score(y_test,y_test_pred))\n",
        "print(recall_score(y_test,y_test_pred))"
      ],
      "metadata": {
        "colab": {
          "base_uri": "https://localhost:8080/",
          "height": 315
        },
        "id": "gPk_v3-SrkZR",
        "outputId": "c6b86cfd-d284-40e1-d14d-033442473737"
      },
      "execution_count": 77,
      "outputs": [
        {
          "output_type": "stream",
          "name": "stdout",
          "text": [
            "0.9787234042553191\n",
            "0.96875\n"
          ]
        },
        {
          "output_type": "display_data",
          "data": {
            "text/plain": [
              "<Figure size 432x288 with 1 Axes>"
            ],
            "image/png": "[encoded data removed]"
          },
          "metadata": {
            "needs_background": "light"
          }
        }
      ]
    },
    {
      "cell_type": "code",
      "source": [
        "Model = SVC(random_state=100,class_weight='balanced')\n",
        "\n",
        "params = {'C':[0.0001,0.001,0.01,0.1,1,10,100,1000,10000],\n",
        "          'gamma':[10000,1000,100,10,1,0.1,0.001,0.0001,0.00001]}\n",
        "\n",
        "grid_search = GridSearchCV(estimator=Model,param_grid=params,verbose=1,n_jobs=-1,scoring='accuracy')\n",
        "grid_search.fit(X_train,y_train)"
      ],
      "metadata": {
        "colab": {
          "base_uri": "https://localhost:8080/"
        },
        "id": "1OLf1X34rnTn",
        "outputId": "140d6c50-1354-462c-90af-04b1e5887bd0"
      },
      "execution_count": 78,
      "outputs": [
        {
          "output_type": "stream",
          "name": "stdout",
          "text": [
            "Fitting 5 folds for each of 81 candidates, totalling 405 fits\n"
          ]
        },
        {
          "output_type": "execute_result",
          "data": {
            "text/plain": [
              "GridSearchCV(estimator=SVC(class_weight='balanced', random_state=100),\n",
              "             n_jobs=-1,\n",
              "             param_grid={'C': [0.0001, 0.001, 0.01, 0.1, 1, 10, 100, 1000,\n",
              "                               10000],\n",
              "                         'gamma': [10000, 1000, 100, 10, 1, 0.1, 0.001, 0.0001,\n",
              "                                   1e-05]},\n",
              "             scoring='accuracy', verbose=1)"
            ]
          },
          "metadata": {},
          "execution_count": 78
        }
      ]
    },
    {
      "cell_type": "code",
      "source": [
        "Model_best = grid_search.best_estimator_"
      ],
      "metadata": {
        "id": "Tut6PDcorqG0"
      },
      "execution_count": 79,
      "outputs": []
    },
    {
      "cell_type": "code",
      "source": [
        "plot_roc_curve(Model_best,X_train,y_train)\n",
        "y_train_pred = Model_best.predict(X_train)\n",
        "\n",
        "print(accuracy_score(y_train,y_train_pred))\n",
        "print(recall_score(y_train,y_train_pred))"
      ],
      "metadata": {
        "colab": {
          "base_uri": "https://localhost:8080/",
          "height": 315
        },
        "id": "QwcDnniprso8",
        "outputId": "1ce9bb3a-2e4a-4f78-a841-9527ffd78dea"
      },
      "execution_count": 80,
      "outputs": [
        {
          "output_type": "stream",
          "name": "stdout",
          "text": [
            "1.0\n",
            "1.0\n"
          ]
        },
        {
          "output_type": "display_data",
          "data": {
            "text/plain": [
              "<Figure size 432x288 with 1 Axes>"
            ],
            "image/png": "[encoded data removed]"
          },
          "metadata": {
            "needs_background": "light"
          }
        }
      ]
    },
    {
      "cell_type": "code",
      "source": [
        "plot_roc_curve(Model_best,X_test,y_test)\n",
        "y_test_pred = Model_best.predict(X_test)\n",
        "\n",
        "print(accuracy_score(y_test,y_test_pred))\n",
        "print(recall_score(y_test,y_test_pred))"
      ],
      "metadata": {
        "colab": {
          "base_uri": "https://localhost:8080/",
          "height": 315
        },
        "id": "Dt4s6_L8se8n",
        "outputId": "f5c30432-c768-4e37-a62d-3d7e9ffdccf4"
      },
      "execution_count": 81,
      "outputs": [
        {
          "output_type": "stream",
          "name": "stdout",
          "text": [
            "1.0\n",
            "1.0\n"
          ]
        },
        {
          "output_type": "display_data",
          "data": {
            "text/plain": [
              "<Figure size 432x288 with 1 Axes>"
            ],
            "image/png": "[encoded data removed]"
          },
          "metadata": {
            "needs_background": "light"
          }
        }
      ]
    },
    {
      "cell_type": "code",
      "source": [
        "#As we can see we get almost perfect recall and accuracy scores using SVMs.\n",
        "# END FOR NOW #"
      ],
      "metadata": {
        "id": "42lf2qN6sivl"
      },
      "execution_count": 82,
      "outputs": []
    }
  ]
}